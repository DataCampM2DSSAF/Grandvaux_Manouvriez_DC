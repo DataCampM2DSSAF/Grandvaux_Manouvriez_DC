{
 "cells": [
  {
   "cell_type": "code",
   "execution_count": 2,
   "metadata": {},
   "outputs": [],
   "source": [
    "import pandas as pd\n",
    "import numpy as np\n",
    "from sklearn.ensemble import RandomForestRegressor\n",
    "from sklearn.metrics import accuracy_score\n",
    "from sklearn.metrics import mean_squared_error\n",
    "import warnings\n",
    "warnings.filterwarnings('ignore')"
   ]
  },
  {
   "cell_type": "code",
   "execution_count": 3,
   "metadata": {},
   "outputs": [
    {
     "name": "stdout",
     "output_type": "stream",
     "text": [
      "(2400, 19)\n",
      "(629, 7)\n",
      "(3005, 7)\n"
     ]
    }
   ],
   "source": [
    "train = pd.read_json('train.json', lines=True)\n",
    "test = pd.read_json('test.json', lines=True)\n",
    "public = test.query('seq_length == 107').copy()\n",
    "private = test.query('seq_length == 130').copy()\n",
    "print(train.shape)\n",
    "print(public.shape)\n",
    "print(private.shape)"
   ]
  },
  {
   "cell_type": "code",
   "execution_count": 4,
   "metadata": {},
   "outputs": [],
   "source": [
    "def process_seq(data, seq_length):\n",
    "    # processes the 3 sequences and the target\n",
    "    seq = data.loc[:, 'sequence'].str.slice(0, seq_length).values\n",
    "    struct = data.loc[:, 'structure'].str.slice(0, seq_length).values\n",
    "    loop = data.loc[:, 'predicted_loop_type'].str.slice(0, seq_length).values\n",
    "    \n",
    "    n = data.shape[0]\n",
    "\n",
    "    new_seq = []\n",
    "    new_struct = []\n",
    "    new_loop = []\n",
    "\n",
    "    for i in range(n):\n",
    "        # sequence processing\n",
    "        seq_dic = {'A': 0, 'C': 1, 'G': 2, 'U': 3} \n",
    "        n_seq = [seq_dic[l] for l in seq[i]]\n",
    "        new_seq.append(n_seq)\n",
    "\n",
    "        # structure processing\n",
    "        struct_dic = {'(': 4, '.': 5, ')': 6}\n",
    "        n_struct = [struct_dic[l] for l in struct[i]]\n",
    "        new_struct.append(n_struct)\n",
    "\n",
    "        # predicted_loop_type processing\n",
    "        loop_dic = {'S':7, 'M':8, 'I':9, 'B':10, 'H':11, 'E':12, 'X':13}\n",
    "        n_loop = [loop_dic[l] for l in loop[i]]\n",
    "        new_loop.append(n_loop)\n",
    "        \n",
    "    new_seq = np.array(new_seq)\n",
    "    new_struct = np.array(new_struct)\n",
    "    new_loop = np.array(new_loop)\n",
    "        \n",
    "    new_seq = new_seq.reshape(new_seq.shape[0], new_seq.shape[1], 1) \n",
    "    new_struct = new_struct.reshape(new_struct.shape[0], new_struct.shape[1], 1)\n",
    "    new_loop = new_loop.reshape(new_loop.shape[0], new_loop.shape[1], 1)\n",
    "    \n",
    "    return np.concatenate([new_seq, new_struct, new_loop], axis=2)\n",
    "\n",
    "def process_target(data, seq_scored):\n",
    "    n = data.shape[0]\n",
    "    y_train = data.loc[:, ['reactivity', 'deg_Mg_pH10', 'deg_pH10', 'deg_Mg_50C', 'deg_50C']]\n",
    "    new_target = np.zeros((n, 5, seq_scored))\n",
    "    \n",
    "    for i in range(n):\n",
    "        new_target[i, :, :] = np.concatenate(y_train.values[i]).reshape(5, seq_scored)\n",
    "    # swap the 2 last axes to match sequence shape\n",
    "    new_target = np.swapaxes(new_target, 1, 2)\n",
    "    return new_target"
   ]
  },
  {
   "cell_type": "code",
   "execution_count": 5,
   "metadata": {},
   "outputs": [
    {
     "name": "stdout",
     "output_type": "stream",
     "text": [
      "(2400, 107, 3)\n",
      "(629, 107, 3)\n",
      "(3005, 130, 3)\n",
      "(2400, 68, 5)\n",
      "[[ 2  5 12]\n",
      " [ 2  5 12]\n",
      " [ 0  5 12]\n",
      " [ 0  5 12]]\n"
     ]
    }
   ],
   "source": [
    "features = process_seq(train, seq_length=107)\n",
    "features_public = process_seq(public, seq_length=107)\n",
    "features_private = process_seq(private, seq_length=130)\n",
    "\n",
    "target = process_target(train, seq_scored=68)\n",
    "\n",
    "print(features.shape)\n",
    "print(features_public.shape)\n",
    "print(features_private.shape)\n",
    "print(target.shape)\n",
    "# features of the first 4 bases of the first sequence\n",
    "print(features[0, :4, :])"
   ]
  },
  {
   "cell_type": "code",
   "execution_count": 7,
   "metadata": {},
   "outputs": [
    {
     "name": "stdout",
     "output_type": "stream",
     "text": [
      "(2400, 107, 107)\n",
      "(629, 107, 107)\n",
      "(3005, 130, 130)\n"
     ]
    }
   ],
   "source": [
    "def get_bpps(ids):\n",
    "    # retrieve bpps matrices\n",
    "    bpps = []\n",
    "    for id in ids:\n",
    "        bpps.append(np.load(f\"bpps/{id}.npy\"),)\n",
    "    return np.array(bpps)\n",
    "\n",
    "\n",
    "X_bpps = get_bpps(train.id.values)\n",
    "X_bpps_public = get_bpps(public.id.values)\n",
    "X_bpps_private = get_bpps(private.id.values)\n",
    "print(X_bpps.shape)\n",
    "print(X_bpps_public.shape)\n",
    "print(X_bpps_private.shape)"
   ]
  },
  {
   "cell_type": "code",
   "execution_count": 8,
   "metadata": {},
   "outputs": [],
   "source": [
    "def min_max_norm(m):\n",
    "    # min max scaling for non negatives values\n",
    "    maxi = np.amax(m) + 1e-8  # avoid dividing by 0\n",
    "    return m / maxi\n",
    "\n",
    "\n",
    "def get_nonzeros(X_bpps):\n",
    "    # return non 0 proportion of each row of the bpps files\n",
    "    X_bpps_nonzeros_prop = []\n",
    "    n = X_bpps.shape[0]\n",
    "    seq_length = X_bpps.shape[1]\n",
    "    for k in range(n):\n",
    "        X_bpps_nonzeros_prop.append(1 - ((X_bpps[k] == 0).sum(axis=1) / seq_length))\n",
    "    X_bpps_nonzeros_prop = np.array(X_bpps_nonzeros_prop)\n",
    "    return X_bpps_nonzeros_prop\n",
    "\n",
    "\n",
    "def get_dist(structures, seq_length):\n",
    "    # return distance matrix according to the distance between paired bases\n",
    "    dist = np.zeros((structures.shape[0], seq_length, seq_length))\n",
    "    idx = []\n",
    "    for row, structure in enumerate(structures):\n",
    "        for i, token in enumerate(structure):\n",
    "            if token == \"(\":\n",
    "                idx.append(i)\n",
    "            elif token == \")\":\n",
    "                j = idx.pop()  # index of the corresponding '(' \n",
    "                dist[row, i, j] = i-j\n",
    "                dist[row, j, i] = i-j\n",
    "    return dist\n",
    "\n",
    "\n",
    "def get_features(data, seq_length):\n",
    "    # return the stats features from bpps files\n",
    "    X_bpps = get_bpps(data.id.values)  # retrieve bpps matrices\n",
    "    X_dist = get_dist(data['structure'].str.slice(0, seq_length), seq_length)\n",
    "    X_bpps_nonzeros_prop = get_nonzeros(X_bpps)\n",
    "\n",
    "    train_bpps_stats = [min_max_norm(X_bpps.mean(axis=2)),  # mean of non zeros values for each base\n",
    "                        min_max_norm(X_bpps.max(axis=2)),  # max value for each base\n",
    "                        min_max_norm(X_bpps_nonzeros_prop),  # proportion of non zeros for each base\n",
    "                        min_max_norm(X_dist.sum(axis=2))]  # distance of the base to its partner \n",
    "    X_stats = np.concatenate([stats[:,:,None] for stats in train_bpps_stats], axis=2)\n",
    "    return X_stats, X_bpps, X_dist\n",
    "\n",
    "# bpps stats features\n",
    "X_stats, X_bpps, X_dist = get_features(train, seq_length=107)\n",
    "X_stats_public, X_bpps_public, X_dist_public = get_features(public, seq_length=107)\n",
    "X_stats_private, X_bpps_private, X_dist_private = get_features(private, seq_length=130)\n",
    "\n",
    "# concatenate sequences features and bpps stats features\n",
    "X = np.concatenate([features, X_stats], axis=2)\n",
    "np.save('X.npy', X)\n",
    "X_public = np.concatenate([features_public, X_stats_public], axis=2)\n",
    "np.save('X_public.npy', X_public)\n",
    "X_private = np.concatenate([features_private, X_stats_private], axis=2)\n",
    "np.save('X_private.npy', X_private)\n",
    "y = target\n",
    "np.save('y.npy', y)"
   ]
  },
  {
   "cell_type": "code",
   "execution_count": 9,
   "metadata": {},
   "outputs": [
    {
     "name": "stdout",
     "output_type": "stream",
     "text": [
      "(2144, 107, 7)\n",
      "(256, 107, 7)\n",
      "(2144, 68, 5)\n",
      "(256, 68, 5)\n",
      "(629, 107, 7)\n",
      "(3005, 130, 7)\n",
      "[[0.19854377 0.02178589 0.31818181 0.        ]\n",
      " [0.18371357 0.03865303 0.22727272 0.        ]\n",
      " [0.06000285 0.02759063 0.05681818 0.        ]\n",
      " [0.01312231 0.00947074 0.04545454 0.        ]]\n"
     ]
    }
   ],
   "source": [
    "# split data\n",
    "# lets select validation indexes where SN_filter = 1. \n",
    "# Indeed private test sequences are based on that type of filter\n",
    "np.random.seed(42)\n",
    "idx_filter = np.where(train.SN_filter == 1)[0]\n",
    "choice = np.random.choice(idx_filter, 256, replace=False)\n",
    "idx_valid = np.ones(X.shape[0], dtype=np.bool)\n",
    "idx_valid[choice] = False\n",
    "\n",
    "X_train = X[idx_valid, :, :]\n",
    "X_valid = X[~idx_valid, :, :]\n",
    "y_train = y[idx_valid]\n",
    "y_valid = y[~idx_valid]\n",
    "\n",
    "\n",
    "print(X_train.shape)\n",
    "print(X_valid.shape)\n",
    "print(y_train.shape)\n",
    "print(y_valid.shape)\n",
    "print(X_public.shape)\n",
    "print(X_private.shape)\n",
    "print(X_train[0, :4, 3:])  # stats for the first 4 bases of the first sequence"
   ]
  },
  {
   "cell_type": "markdown",
   "metadata": {},
   "source": [
    "## Random Forest"
   ]
  },
  {
   "cell_type": "code",
   "execution_count": 10,
   "metadata": {},
   "outputs": [],
   "source": [
    "def make_random_forest(X_train, y_train, X_valid, y_valid):\n",
    "    X_trn = X_train[:, :68, :].reshape(X_train.shape[0], 68*X_train.shape[2])\n",
    "    X_val = X_valid[:, :68, :].reshape(X_valid.shape[0], 68*X_valid.shape[2])\n",
    "    y_trn = y_train.reshape(y_train.shape[0], y_train.shape[1]*y_train.shape[2])\n",
    "\n",
    "    reg = RandomForestRegressor(n_estimators=2000, \n",
    "                                max_features='sqrt',\n",
    "                                criterion='mse',\n",
    "                                min_samples_leaf=2, \n",
    "                                max_depth=40,\n",
    "                                n_jobs=-1,  # activate all the cores of the cpu\n",
    "                                random_state=42,\n",
    "                                verbose=1)  \n",
    "    reg.fit(X_trn, y_trn)\n",
    "    y_pred = reg.predict(X_val)\n",
    "    return y_pred"
   ]
  },
  {
   "cell_type": "code",
   "execution_count": 11,
   "metadata": {},
   "outputs": [
    {
     "name": "stderr",
     "output_type": "stream",
     "text": [
      "[Parallel(n_jobs=-1)]: Using backend ThreadingBackend with 8 concurrent workers.\n",
      "[Parallel(n_jobs=-1)]: Done  34 tasks      | elapsed:    2.1s\n",
      "[Parallel(n_jobs=-1)]: Done 184 tasks      | elapsed:   10.4s\n",
      "[Parallel(n_jobs=-1)]: Done 434 tasks      | elapsed:   24.4s\n",
      "[Parallel(n_jobs=-1)]: Done 784 tasks      | elapsed:   43.9s\n",
      "[Parallel(n_jobs=-1)]: Done 1234 tasks      | elapsed:  1.1min\n",
      "[Parallel(n_jobs=-1)]: Done 1784 tasks      | elapsed:  1.6min\n",
      "[Parallel(n_jobs=-1)]: Done 2000 out of 2000 | elapsed:  1.8min finished\n",
      "[Parallel(n_jobs=8)]: Using backend ThreadingBackend with 8 concurrent workers.\n",
      "[Parallel(n_jobs=8)]: Done  34 tasks      | elapsed:    0.0s\n",
      "[Parallel(n_jobs=8)]: Done 184 tasks      | elapsed:    0.0s\n",
      "[Parallel(n_jobs=8)]: Done 434 tasks      | elapsed:    0.0s\n",
      "[Parallel(n_jobs=8)]: Done 784 tasks      | elapsed:    0.0s\n",
      "[Parallel(n_jobs=8)]: Done 1234 tasks      | elapsed:    0.1s\n",
      "[Parallel(n_jobs=8)]: Done 1784 tasks      | elapsed:    0.2s\n",
      "[Parallel(n_jobs=8)]: Done 2000 out of 2000 | elapsed:    0.2s finished\n"
     ]
    },
    {
     "data": {
      "text/plain": [
       "0.3336529170407562"
      ]
     },
     "execution_count": 11,
     "metadata": {},
     "output_type": "execute_result"
    }
   ],
   "source": [
    "y_pred = make_random_forest(X_train, y_train, X_valid, y_valid)\n",
    "y_val = y_valid.reshape(y_valid.shape[0], y_valid.shape[1]*y_valid.shape[2])\n",
    "y_pred[y_pred < 0.0] = 0.0\n",
    "y_pred[y_pred > 6.0] = 6.0\n",
    "rmse = np.sqrt(mean_squared_error(y_val, y_pred))  # best 0.3404 - 2000 trees\n",
    "rmse  "
   ]
  },
  {
   "cell_type": "code",
   "execution_count": null,
   "metadata": {},
   "outputs": [],
   "source": []
  }
 ],
 "metadata": {
  "kernelspec": {
   "display_name": "Python 3.7 (tensorflowGPU)",
   "language": "python",
   "name": "tensorflowgpu"
  },
  "language_info": {
   "codemirror_mode": {
    "name": "ipython",
    "version": 3
   },
   "file_extension": ".py",
   "mimetype": "text/x-python",
   "name": "python",
   "nbconvert_exporter": "python",
   "pygments_lexer": "ipython3",
   "version": "3.7.9"
  }
 },
 "nbformat": 4,
 "nbformat_minor": 4
}
