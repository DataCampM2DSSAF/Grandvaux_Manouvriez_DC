{
  "nbformat": 4,
  "nbformat_minor": 0,
  "metadata": {
    "colab": {
      "name": "Suivi.ipynb",
      "provenance": [],
      "collapsed_sections": []
    },
    "kernelspec": {
      "name": "python3",
      "display_name": "Python 3"
    }
  },
  "cells": [
    {
      "cell_type": "markdown",
      "metadata": {
        "id": "A7PARIMpYuPh"
      },
      "source": [
        "# Outil de suivi"
      ]
    },
    {
      "cell_type": "markdown",
      "metadata": {
        "id": "QAdI8fEeYqY8"
      },
      "source": [
        "## Séance du 22/01"
      ]
    },
    {
      "cell_type": "markdown",
      "metadata": {
        "id": "vlYVovKXhnI-"
      },
      "source": [
        "- Compréhension des données\r\n",
        "- 1er sample submission rempli de zéro"
      ]
    },
    {
      "cell_type": "markdown",
      "metadata": {
        "id": "-8Ix6hcyQSME"
      },
      "source": [
        "### Explication des features:\r\n",
        "\r\n",
        "* **id:** id of the sequence\r\n",
        "* **sequence:** séquence ARN\r\n",
        "* **structure:** apparaillement des bases\r\n",
        "* **predicted_loop_type:** structure de l'ARN\r\n",
        "* **signal_to_noise:** ratio between mean(measurement value over 68 nts) and mean(statistical error in measurement value over 68 nts)\r\n",
        "* **SN_filter:** indique si l'observation est passée dans des filtres (assure la diversité des séquences)\r\n",
        "* **seq_length:** longueur de la séquence ARN\r\n",
        "* **seq_scored:** longueur des listes\r\n",
        "* **reactivity_error:** \r\n",
        "* **deg_error_Mg_ph10:** vraisemblance de la dégradation de la base (avec Magnésium à haut pH)\r\n",
        "* **deg_error_ph10:** vraisemblance de la dégradation de la base (sans Magnésium à haut pH)\r\n",
        "* **deg_error_Mg_50C:**\tvraisemblance de la dégradation de la base (avec Magnésium à haute température)\r\n",
        "* **deg_error_50C:** vraisemblance de la dégradation de la base (sans Magnésium à haute température)\r\n",
        "* **reactivity:** \r\n",
        "* **deg_Mg_ph10:** vraisemblance théorique de la dégradation de la base (avec Magnésium à haut pH)\r\n",
        "* **deg_ph10:** vraisemblance théorique de la dégradation de la base (sans Magnésium à haut pH)\r\n",
        "* **deg_Mg_50C:**\tvraisemblance théorique de la dégradation de la base (avec Magnésium à haute température)\r\n",
        "* **deg_50C:** vraisemblance théorique de la dégradation de la base (sans Magnésium à haute température)"
      ]
    },
    {
      "cell_type": "markdown",
      "metadata": {
        "id": "Wzq-Ucy8Powz"
      },
      "source": [
        "Nous avons 3 features qui représentent des séquences.\r\n",
        "\r\n",
        "* **sequence** \r\n",
        "* **structure**\r\n",
        "* **predicted_loop_type**\r\n",
        "\r\n",
        "Sachant les 3 séquences ci-dessus, on veut prédire les valeurs théoriques suivantes: \r\n",
        "* **reactivity**\r\n",
        "* **deg_Mg_ph10**\r\n",
        "* **deg_ph10**\r\n",
        "* **deg_Mg_50C**\r\n",
        "* **deg_50C**\r\n",
        "\r\n",
        "Pour chaque séquence, on doit prédire seq_length données ci-dessus."
      ]
    },
    {
      "cell_type": "markdown",
      "metadata": {
        "id": "Y4mN5zSB3GNL"
      },
      "source": [
        "On va commencer par créer un modèle ou nous prenons en entrée les 3 séquences et en sortie on retourne une vecteur de taille (5*seq_length)."
      ]
    },
    {
      "cell_type": "markdown",
      "metadata": {
        "id": "fxk7wrSt_1Q0"
      },
      "source": [
        "**Taille test**\r\n",
        "\r\n",
        "On a remarqué que nous devions prédire toute la taille de la séquence alors que techniquement, seulement 68 ou 91 bases ne sont demandées.\r\n",
        "\r\n",
        "On a testé avec un submission rempli de zéro pour voir notre score d'erreur (en supposant qu'il y ait des zéros pour les indices des séquences supérieurs à 68 et 91.\r\n",
        "\r\n",
        "On obtient un score de 0.64846. \r\n",
        "Si uniquement les valeurs non prédictives étaient à 0, on aurait un score de 0.69052.\r\n",
        "\r\n",
        "**hypothèse** : valeurs > 68 (resp 91) pour les séquences de taille 107 (resp 130) sont prédites à 0."
      ]
    },
    {
      "cell_type": "markdown",
      "metadata": {
        "id": "2o0s-QyvDqTO"
      },
      "source": [
        "Idée de départ :\r\n",
        "\r\n",
        "On travaille sur des variables toutes de type qualitative\r\n",
        "\r\n",
        "\r\n",
        "*   {A,C,G,U} pour la séquence\r\n",
        "*   { **(** , **.** , **)** } pour la structure\r\n",
        "*   {S,M,I,B,H,E,X} pour la predicted_loop_type\r\n",
        "\r\n",
        "Notre idée est de transformer ces données en vecteur binaire\r\n",
        "\r\n",
        "**exemple** Si notre première base est un A, alors on renvoit un vecteur [1,0,0,0]\r\n",
        "(la colonne correspond à la valeur de la base, choix arbitraire)\r\n",
        "\r\n",
        "On aura donc de nouvelles entrées :\r\n",
        "\r\n",
        "* Pour une séquence : une matrice de taille (4,len_seq)\r\n",
        "* Pour une structure : une matrice de taille (3,len_seq)\r\n",
        "* Pour le loop type : une matrice de taille (7,seq_len)\r\n",
        "\r\n",
        "Pour une taille seq_score, nous devrons prédire pour **UNE** base sa valeur de reactivity, deg_pH_Mg, etc.\r\n",
        "\r\n",
        "**Attention** prédire une seule base ne signifie pas de traiter les bases une part une. En effet l'enchainement des bases et d'autres possibilités (que nous découvrirons plus tard) peuvent avoir un impact sur les prédictions\r\n",
        "\r\n",
        "**Préparation des données**\r\n",
        "\r\n",
        "* Nous avons aucune données manquante\r\n",
        "* Comme nous n'avons pas accès aux labels du jeu de données test, nous allons utiliser la base de données train afin de valider nos résultats. \r\n",
        "* Pour cela nous division notre base de données train en 80% pour l'entraînement et 20% pour la validation\r\n",
        "\r\n"
      ]
    },
    {
      "cell_type": "markdown",
      "metadata": {
        "id": "tJRs4atpH1Wb"
      },
      "source": [
        "2 idées de traitement des données :\r\n",
        "* une classique (test statistique, regression linéaire, random_forest...)\r\n",
        "* une axée Deep Learning (LSTM, CNN peut-être)"
      ]
    },
    {
      "cell_type": "markdown",
      "metadata": {
        "id": "cYK6CTqva7KI"
      },
      "source": [
        "\r\n",
        "## Séance du 05/02"
      ]
    },
    {
      "cell_type": "markdown",
      "metadata": {
        "id": "coRvYz6T8ROf"
      },
      "source": [
        "**Objectifs**\r\n",
        "\r\n",
        "* construire un 1er modèle"
      ]
    },
    {
      "cell_type": "code",
      "metadata": {
        "id": "SV_R5QaoHpK5"
      },
      "source": [
        ""
      ],
      "execution_count": null,
      "outputs": []
    }
  ]
}