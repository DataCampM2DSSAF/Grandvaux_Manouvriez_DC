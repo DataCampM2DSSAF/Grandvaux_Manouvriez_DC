{
 "cells": [
  {
   "cell_type": "code",
   "execution_count": null,
   "metadata": {
    "id": "iA2iY-iSUstF"
   },
   "outputs": [],
   "source": [
    "import scipy\n",
    "import numpy as np # manipulate N-dimensional arrays\n",
    "import pandas as pd # data frame\n",
    "import matplotlib.pyplot as plt # data plotting\n",
    "import seaborn # advanced data plotting\n",
    "from sklearn import preprocessing # basic ML models\n",
    "# import scipy # scientific computing library\n",
    "\n",
    "import tensorflow as tf\n",
    "import keras\n",
    "\n",
    "import os"
   ]
  },
  {
   "cell_type": "code",
   "execution_count": null,
   "metadata": {
    "id": "_6Yvu73Gu89r"
   },
   "outputs": [],
   "source": [
    "train = pd.read_json ('train.json', lines=True)"
   ]
  },
  {
   "cell_type": "code",
   "execution_count": null,
   "metadata": {
    "id": "tmYiCTWNu87q"
   },
   "outputs": [],
   "source": [
    "data = train.iloc[np.where(train['SN_filter'] == 1)[0],:]"
   ]
  },
  {
   "cell_type": "code",
   "execution_count": null,
   "metadata": {
    "colab": {
     "base_uri": "https://localhost:8080/",
     "height": 825
    },
    "id": "MHE2DPFOxwe4",
    "outputId": "3736bfab-4c24-4a8f-e274-8a7968cc210f"
   },
   "outputs": [
    {
     "data": {
      "text/html": [
       "<div>\n",
       "<style scoped>\n",
       "    .dataframe tbody tr th:only-of-type {\n",
       "        vertical-align: middle;\n",
       "    }\n",
       "\n",
       "    .dataframe tbody tr th {\n",
       "        vertical-align: top;\n",
       "    }\n",
       "\n",
       "    .dataframe thead th {\n",
       "        text-align: right;\n",
       "    }\n",
       "</style>\n",
       "<table border=\"1\" class=\"dataframe\">\n",
       "  <thead>\n",
       "    <tr style=\"text-align: right;\">\n",
       "      <th></th>\n",
       "      <th>index</th>\n",
       "      <th>id</th>\n",
       "      <th>sequence</th>\n",
       "      <th>structure</th>\n",
       "      <th>predicted_loop_type</th>\n",
       "      <th>signal_to_noise</th>\n",
       "      <th>SN_filter</th>\n",
       "      <th>seq_length</th>\n",
       "      <th>seq_scored</th>\n",
       "      <th>reactivity_error</th>\n",
       "      <th>deg_error_Mg_pH10</th>\n",
       "      <th>deg_error_pH10</th>\n",
       "      <th>deg_error_Mg_50C</th>\n",
       "      <th>deg_error_50C</th>\n",
       "      <th>reactivity</th>\n",
       "      <th>deg_Mg_pH10</th>\n",
       "      <th>deg_pH10</th>\n",
       "      <th>deg_Mg_50C</th>\n",
       "      <th>deg_50C</th>\n",
       "    </tr>\n",
       "  </thead>\n",
       "  <tbody>\n",
       "    <tr>\n",
       "      <th>0</th>\n",
       "      <td>0</td>\n",
       "      <td>id_001f94081</td>\n",
       "      <td>GGAAAAGCUCUAAUAACAGGAGACUAGGACUACGUAUUUCUAGGUA...</td>\n",
       "      <td>.....((((((.......)))).)).((.....((..((((((......</td>\n",
       "      <td>EEEEESSSSSSHHHHHHHSSSSBSSXSSIIIIISSIISSSSSSHHH...</td>\n",
       "      <td>6.894</td>\n",
       "      <td>1</td>\n",
       "      <td>107</td>\n",
       "      <td>68</td>\n",
       "      <td>[0.1359, 0.20700000000000002, 0.1633, 0.1452, ...</td>\n",
       "      <td>[0.26130000000000003, 0.38420000000000004, 0.1...</td>\n",
       "      <td>[0.2631, 0.28600000000000003, 0.0964, 0.1574, ...</td>\n",
       "      <td>[0.1501, 0.275, 0.0947, 0.18660000000000002, 0...</td>\n",
       "      <td>[0.2167, 0.34750000000000003, 0.188, 0.2124, 0...</td>\n",
       "      <td>[0.3297, 1.5693000000000001, 1.1227, 0.8686, 0...</td>\n",
       "      <td>[0.7556, 2.983, 0.2526, 1.3789, 0.637600000000...</td>\n",
       "      <td>[2.3375, 3.5060000000000002, 0.3008, 1.0108, 0...</td>\n",
       "      <td>[0.35810000000000003, 2.9683, 0.2589, 1.4552, ...</td>\n",
       "      <td>[0.6382, 3.4773, 0.9988, 1.3228, 0.78770000000...</td>\n",
       "    </tr>\n",
       "    <tr>\n",
       "      <th>2</th>\n",
       "      <td>2</td>\n",
       "      <td>id_006f36f57</td>\n",
       "      <td>GGAAAGUGCUCAGAUAAGCUAAGCUCGAAUAGCAAUCGAAUAGAAU...</td>\n",
       "      <td>.....((((.((.....((((.(((.....)))..((((......)...</td>\n",
       "      <td>EEEEESSSSISSIIIIISSSSMSSSHHHHHSSSMMSSSSHHHHHHS...</td>\n",
       "      <td>8.800</td>\n",
       "      <td>1</td>\n",
       "      <td>107</td>\n",
       "      <td>68</td>\n",
       "      <td>[0.0931, 0.13290000000000002, 0.11280000000000...</td>\n",
       "      <td>[0.1365, 0.2237, 0.1812, 0.1333, 0.1148, 0.160...</td>\n",
       "      <td>[0.17020000000000002, 0.178, 0.111, 0.091, 0.0...</td>\n",
       "      <td>[0.1033, 0.1464, 0.1126, 0.09620000000000001, ...</td>\n",
       "      <td>[0.14980000000000002, 0.1761, 0.1517, 0.116700...</td>\n",
       "      <td>[0.44820000000000004, 1.4822, 1.1819, 0.743400...</td>\n",
       "      <td>[0.2504, 1.4021, 0.9804, 0.49670000000000003, ...</td>\n",
       "      <td>[2.243, 2.9361, 1.0553, 0.721, 0.6396000000000...</td>\n",
       "      <td>[0.5163, 1.6823000000000001, 1.0426, 0.7902, 0...</td>\n",
       "      <td>[0.9501000000000001, 1.7974999999999999, 1.499...</td>\n",
       "    </tr>\n",
       "    <tr>\n",
       "      <th>5</th>\n",
       "      <td>5</td>\n",
       "      <td>id_00ab2d761</td>\n",
       "      <td>GGAAAGCGCCGCGGCGGUAGCGGCAGCGAGGAGCGCUACCAAGGCA...</td>\n",
       "      <td>.....(.(((((.(((((((((...........)))))))..(((....</td>\n",
       "      <td>EEEEESISSSSSISSSSSSSSSHHHHHHHHHHHSSSSSSSMMSSSH...</td>\n",
       "      <td>4.136</td>\n",
       "      <td>1</td>\n",
       "      <td>107</td>\n",
       "      <td>68</td>\n",
       "      <td>[0.1942, 0.2041, 0.1626, 0.1213, 0.10590000000...</td>\n",
       "      <td>[0.2726, 0.2984, 0.21660000000000001, 0.1637, ...</td>\n",
       "      <td>[0.3393, 0.2728, 0.2005, 0.1703, 0.1495, 0.134...</td>\n",
       "      <td>[0.165, 0.20520000000000002, 0.179, 0.1333, 0....</td>\n",
       "      <td>[0.2864, 0.24710000000000001, 0.2222, 0.1903, ...</td>\n",
       "      <td>[0.7642, 1.6641, 1.0622, 0.5008, 0.4107, 0.133...</td>\n",
       "      <td>[0.9559000000000001, 1.9442, 1.0114, 0.5105000...</td>\n",
       "      <td>[1.9554, 2.1298, 1.0403, 0.609, 0.5486, 0.386,...</td>\n",
       "      <td>[0.22460000000000002, 1.7281, 1.381, 0.6623, 0...</td>\n",
       "      <td>[0.5882000000000001, 1.1786, 0.9704, 0.6035, 0...</td>\n",
       "    </tr>\n",
       "    <tr>\n",
       "      <th>6</th>\n",
       "      <td>6</td>\n",
       "      <td>id_00abef1d7</td>\n",
       "      <td>GGAAAACAAUUGCAUCGUUAGUACGACUCCACAGCGUAAGCUGUGG...</td>\n",
       "      <td>.........((((((((......((((((((((((....)))))))...</td>\n",
       "      <td>EEEEEEEEESSSSSSSSIIIIIISSSSSSSSSSSSHHHHSSSSSSS...</td>\n",
       "      <td>2.485</td>\n",
       "      <td>1</td>\n",
       "      <td>107</td>\n",
       "      <td>68</td>\n",
       "      <td>[0.422, 0.5478000000000001, 0.4749000000000000...</td>\n",
       "      <td>[0.4801, 0.7943, 0.42160000000000003, 0.397300...</td>\n",
       "      <td>[0.9822000000000001, 1.272, 0.6940000000000001...</td>\n",
       "      <td>[0.5827, 0.7555000000000001, 0.5949, 0.4511, 0...</td>\n",
       "      <td>[0.9306000000000001, 1.0496, 0.5844, 0.7796000...</td>\n",
       "      <td>[0.895, 2.3377, 2.2305, 2.003, 1.9006, 1.0373,...</td>\n",
       "      <td>[0.46040000000000003, 3.6695, 0.78550000000000...</td>\n",
       "      <td>[2.7711, 7.365, 1.6924000000000001, 1.43840000...</td>\n",
       "      <td>[1.073, 2.8604000000000003, 1.9936, 1.0273, 1....</td>\n",
       "      <td>[2.0964, 3.3688000000000002, 0.6399, 2.1053, 1...</td>\n",
       "    </tr>\n",
       "    <tr>\n",
       "      <th>7</th>\n",
       "      <td>7</td>\n",
       "      <td>id_00b436dec</td>\n",
       "      <td>GGAAAUCAUCGAGGACGGGUCCGUUCAGCACGCGAAAGCGUCGUGA...</td>\n",
       "      <td>.....(((((((((((..(((((((((..((((....))))..)))...</td>\n",
       "      <td>EEEEESSSSSSSSSSSIISSSSSSSSSIISSSSHHHHSSSSIISSS...</td>\n",
       "      <td>1.727</td>\n",
       "      <td>1</td>\n",
       "      <td>107</td>\n",
       "      <td>68</td>\n",
       "      <td>[0.4843, 0.5233, 0.4554, 0.43520000000000003, ...</td>\n",
       "      <td>[0.8719, 1.0307, 0.6649, 0.34500000000000003, ...</td>\n",
       "      <td>[0.7045, 0.7775000000000001, 0.5662, 0.4561, 0...</td>\n",
       "      <td>[0.384, 0.723, 0.4766, 0.30260000000000004, 0....</td>\n",
       "      <td>[0.7429, 0.9137000000000001, 0.480400000000000...</td>\n",
       "      <td>[1.1576, 1.5137, 1.3382, 1.5622, 1.2121, 0.295...</td>\n",
       "      <td>[1.6912, 5.2652, 2.3901, 0.45890000000000003, ...</td>\n",
       "      <td>[1.8641, 2.3767, 1.149, 1.0132, 0.9876, 0.0, 0...</td>\n",
       "      <td>[0.49060000000000004, 4.6339, 1.95860000000000...</td>\n",
       "      <td>[1.2852000000000001, 2.5460000000000003, 0.234...</td>\n",
       "    </tr>\n",
       "    <tr>\n",
       "      <th>...</th>\n",
       "      <td>...</td>\n",
       "      <td>...</td>\n",
       "      <td>...</td>\n",
       "      <td>...</td>\n",
       "      <td>...</td>\n",
       "      <td>...</td>\n",
       "      <td>...</td>\n",
       "      <td>...</td>\n",
       "      <td>...</td>\n",
       "      <td>...</td>\n",
       "      <td>...</td>\n",
       "      <td>...</td>\n",
       "      <td>...</td>\n",
       "      <td>...</td>\n",
       "      <td>...</td>\n",
       "      <td>...</td>\n",
       "      <td>...</td>\n",
       "      <td>...</td>\n",
       "      <td>...</td>\n",
       "    </tr>\n",
       "    <tr>\n",
       "      <th>2392</th>\n",
       "      <td>2392</td>\n",
       "      <td>id_feea15e66</td>\n",
       "      <td>GGAAACUCCACAUCUCUACGCCACGAAAGUGGGUAGGAUGGGAGAG...</td>\n",
       "      <td>.....((((.((((.((((.((((....)))))))))))))))).(...</td>\n",
       "      <td>EEEEESSSSBSSSSBSSSSBSSSSHHHHSSSSSSSSSSSSSSSSMS...</td>\n",
       "      <td>3.331</td>\n",
       "      <td>1</td>\n",
       "      <td>107</td>\n",
       "      <td>68</td>\n",
       "      <td>[0.1583, 0.223, 0.1763, 0.1398, 0.071500000000...</td>\n",
       "      <td>[0.24880000000000002, 0.4278, 0.19890000000000...</td>\n",
       "      <td>[0.3931, 0.5264, 0.27940000000000004, 0.2323, ...</td>\n",
       "      <td>[0.2199, 0.38480000000000003, 0.1885, 0.1386, ...</td>\n",
       "      <td>[0.2671, 0.42010000000000003, 0.294, 0.222, 0....</td>\n",
       "      <td>[0.551, 1.6286, 1.2842, 0.8054, 0.113800000000...</td>\n",
       "      <td>[0.6185, 3.9969, 0.7495, 0.28340000000000004, ...</td>\n",
       "      <td>[1.9031, 4.6924, 1.2487, 0.8503000000000001, 0...</td>\n",
       "      <td>[0.6743, 4.0084, 0.8681000000000001, 0.419, 0....</td>\n",
       "      <td>[0.3635, 2.0364, 1.1619, 0.5933, 0.561, 0.091,...</td>\n",
       "    </tr>\n",
       "    <tr>\n",
       "      <th>2393</th>\n",
       "      <td>2393</td>\n",
       "      <td>id_ff103a85c</td>\n",
       "      <td>GGAAAAGAUCGAUAGGUACGUGGGUUCAUGUAGGAAACUAGCUGGC...</td>\n",
       "      <td>......((((....(((((((((((.((..(((....)))..))))...</td>\n",
       "      <td>EEEEEESSSSIIIISSSSSSSSSSSBSSIISSSHHHHSSSIISSSS...</td>\n",
       "      <td>4.017</td>\n",
       "      <td>1</td>\n",
       "      <td>107</td>\n",
       "      <td>68</td>\n",
       "      <td>[0.2401, 0.33290000000000003, 0.26830000000000...</td>\n",
       "      <td>[0.3675, 0.558, 0.1796, 0.32330000000000003, 0...</td>\n",
       "      <td>[0.38770000000000004, 0.5141, 0.19740000000000...</td>\n",
       "      <td>[0.273, 0.4867, 0.20670000000000002, 0.316, 0....</td>\n",
       "      <td>[0.3397, 0.4897, 0.197, 0.3254, 0.304, 0.2485,...</td>\n",
       "      <td>[0.9191, 2.7129000000000003, 2.0869, 1.3891, 0...</td>\n",
       "      <td>[0.7334, 3.4708, 0.1658, 1.1059, 0.7204, 1.265...</td>\n",
       "      <td>[2.0171, 5.138, 0.5028, 1.3571, 0.6901, 1.1046...</td>\n",
       "      <td>[0.594, 4.0831, 0.5513, 1.8365, 1.022, 1.3291,...</td>\n",
       "      <td>[0.8569, 3.0359, 0.28350000000000003, 1.3674, ...</td>\n",
       "    </tr>\n",
       "    <tr>\n",
       "      <th>2395</th>\n",
       "      <td>2395</td>\n",
       "      <td>id_ff84602f7</td>\n",
       "      <td>GGAAAAUAGCAGAGGAAAUACUAGAGCAAUUGCAAAGGCCGAUCAU...</td>\n",
       "      <td>........((..((......))...)).........(((..........</td>\n",
       "      <td>EEEEEEEESSIISSHHHHHHSSIIISSXXXXXXXXXSSSHHHHHHH...</td>\n",
       "      <td>4.036</td>\n",
       "      <td>1</td>\n",
       "      <td>107</td>\n",
       "      <td>68</td>\n",
       "      <td>[0.2585, 0.29710000000000003, 0.2748, 0.205000...</td>\n",
       "      <td>[0.2745, 0.37010000000000004, 0.291, 0.1137000...</td>\n",
       "      <td>[0.3446, 0.3815, 0.26940000000000003, 0.1182, ...</td>\n",
       "      <td>[0.2093, 0.2985, 0.2922, 0.08360000000000001, ...</td>\n",
       "      <td>[0.29460000000000003, 0.40850000000000003, 0.3...</td>\n",
       "      <td>[0.6957, 1.251, 1.3235999999999999, 0.7521, 0....</td>\n",
       "      <td>[0.6439, 2.0117, 1.3682, 0.0918, 0.65860000000...</td>\n",
       "      <td>[2.1589, 3.3601, 1.6179000000000001, 0.1344000...</td>\n",
       "      <td>[0.47900000000000004, 1.9583, 2.4635, 0.0512, ...</td>\n",
       "      <td>[0.5759000000000001, 2.3736, 1.4158, 0.1914000...</td>\n",
       "    </tr>\n",
       "    <tr>\n",
       "      <th>2396</th>\n",
       "      <td>2396</td>\n",
       "      <td>id_ff85fcdba</td>\n",
       "      <td>GGAAAACAAAAACAAACAACAAAAACAAACAACAAAAACAAACAAC...</td>\n",
       "      <td>.................................................</td>\n",
       "      <td>EEEEEEEEEEEEEEEEEEEEEEEEEEEEEEEEEEEEEEEEEEEEEE...</td>\n",
       "      <td>3.227</td>\n",
       "      <td>1</td>\n",
       "      <td>107</td>\n",
       "      <td>68</td>\n",
       "      <td>[0.2169, 0.2513, 0.2303, 0.22260000000000002, ...</td>\n",
       "      <td>[0.1883, 0.22790000000000002, 0.1497, 0.154300...</td>\n",
       "      <td>[0.5582, 0.4887, 0.3845, 0.34040000000000004, ...</td>\n",
       "      <td>[0.2758, 0.3659, 0.2155, 0.28340000000000004, ...</td>\n",
       "      <td>[0.401, 0.388, 0.3403, 0.3608, 0.3057, 0.242, ...</td>\n",
       "      <td>[0.2891, 0.4496, 0.7165, 0.7128, 0.59310000000...</td>\n",
       "      <td>[0.3619, 0.6924, 0.2988, 0.3639, 0.545, 0.2263...</td>\n",
       "      <td>[2.8541, 1.6106, 1.4343, 1.0797, 0.6803, 0.559...</td>\n",
       "      <td>[0.2964, 0.9351, 0.2555, 0.7603000000000001, 0...</td>\n",
       "      <td>[0.6526000000000001, 0.2548, 0.6927, 0.9316000...</td>\n",
       "    </tr>\n",
       "    <tr>\n",
       "      <th>2399</th>\n",
       "      <td>2399</td>\n",
       "      <td>id_fff546103</td>\n",
       "      <td>GGAAAGCUAGGACGUGGGAGCGUAGCUCUCCACACGGGUACGCCAA...</td>\n",
       "      <td>.....((((((((((((((((...)))).)))).((((((((((.....</td>\n",
       "      <td>EEEEESSSSSSSSSSSSSSSSHHHSSSSBSSSSMSSSSSSSSSSHH...</td>\n",
       "      <td>6.545</td>\n",
       "      <td>1</td>\n",
       "      <td>107</td>\n",
       "      <td>68</td>\n",
       "      <td>[0.1782, 0.2043, 0.1842, 0.13240000000000002, ...</td>\n",
       "      <td>[0.3272, 0.3558, 0.27440000000000003, 0.222600...</td>\n",
       "      <td>[0.2958, 0.28140000000000004, 0.19410000000000...</td>\n",
       "      <td>[0.22060000000000002, 0.254, 0.2109, 0.1636, 0...</td>\n",
       "      <td>[0.2379, 0.27590000000000003, 0.22160000000000...</td>\n",
       "      <td>[1.0102, 1.7928000000000002, 1.9228, 0.9649000...</td>\n",
       "      <td>[1.4842, 2.4813, 1.737, 1.2082, 0.959000000000...</td>\n",
       "      <td>[2.3588, 2.2161, 1.2522, 0.7875000000000001, 0...</td>\n",
       "      <td>[1.3281, 2.3854, 2.0464, 1.2384, 0.631, 0.1848...</td>\n",
       "      <td>[0.7043, 1.4864, 1.3035, 1.2176, 0.82900000000...</td>\n",
       "    </tr>\n",
       "  </tbody>\n",
       "</table>\n",
       "<p>1589 rows × 19 columns</p>\n",
       "</div>"
      ],
      "text/plain": [
       "      index  ...                                            deg_50C\n",
       "0         0  ...  [0.6382, 3.4773, 0.9988, 1.3228, 0.78770000000...\n",
       "2         2  ...  [0.9501000000000001, 1.7974999999999999, 1.499...\n",
       "5         5  ...  [0.5882000000000001, 1.1786, 0.9704, 0.6035, 0...\n",
       "6         6  ...  [2.0964, 3.3688000000000002, 0.6399, 2.1053, 1...\n",
       "7         7  ...  [1.2852000000000001, 2.5460000000000003, 0.234...\n",
       "...     ...  ...                                                ...\n",
       "2392   2392  ...  [0.3635, 2.0364, 1.1619, 0.5933, 0.561, 0.091,...\n",
       "2393   2393  ...  [0.8569, 3.0359, 0.28350000000000003, 1.3674, ...\n",
       "2395   2395  ...  [0.5759000000000001, 2.3736, 1.4158, 0.1914000...\n",
       "2396   2396  ...  [0.6526000000000001, 0.2548, 0.6927, 0.9316000...\n",
       "2399   2399  ...  [0.7043, 1.4864, 1.3035, 1.2176, 0.82900000000...\n",
       "\n",
       "[1589 rows x 19 columns]"
      ]
     },
     "execution_count": 4,
     "metadata": {
      "tags": []
     },
     "output_type": "execute_result"
    }
   ],
   "source": [
    "data"
   ]
  },
  {
   "cell_type": "markdown",
   "metadata": {
    "id": "wCYTabgQBIrH"
   },
   "source": [
    "Ajout de donnees"
   ]
  },
  {
   "cell_type": "code",
   "execution_count": null,
   "metadata": {
    "id": "0fMnZ_WnBIbJ"
   },
   "outputs": [],
   "source": [
    "def prop_base(x):\n",
    "    v = np.array(list(x))\n",
    "    prop_A = np.mean(v == 'A')\n",
    "    prop_C = np.mean(v == 'C')\n",
    "    prop_U = np.mean(v == 'U')\n",
    "    return prop_A, prop_C, prop_U"
   ]
  },
  {
   "cell_type": "code",
   "execution_count": null,
   "metadata": {
    "id": "chaT8p3ZBLLP"
   },
   "outputs": [],
   "source": [
    "def prop_loop_type(x):\n",
    "    v = np.array(list(x))\n",
    "    prop_S = np.mean(v == 'S')\n",
    "    prop_E = np.mean(v == 'E')\n",
    "    prop_H = np.mean(v == 'H')\n",
    "    prop_B = np.mean(v == 'B')\n",
    "    prop_I = np.mean(v == 'I')\n",
    "    prop_X = np.mean(v == 'X')\n",
    "    return prop_S,prop_E,prop_H,prop_B,prop_I,prop_X"
   ]
  },
  {
   "cell_type": "code",
   "execution_count": null,
   "metadata": {
    "id": "reC8gm6yBLH3"
   },
   "outputs": [],
   "source": [
    "def get_dist(structure, seq_length):\n",
    "    dist = np.zeros((seq_length))\n",
    "    idx = []\n",
    "    for i, token in enumerate(structure):\n",
    "        if token == \"(\":\n",
    "            idx.append(i)\n",
    "        elif token == \")\":\n",
    "            j = idx.pop()  # index of the corresponding '(' \n",
    "            dist[i] = i-j\n",
    "            dist[j] = i-j\n",
    "    return (dist/seq_length)"
   ]
  },
  {
   "cell_type": "code",
   "execution_count": null,
   "metadata": {
    "id": "vwC1yEeJBLAo"
   },
   "outputs": [],
   "source": [
    "def transformation_base_nombre(x):\n",
    "    if x == 'A':\n",
    "        return 1\n",
    "    if x == 'C':\n",
    "        return 2\n",
    "    if x == 'G':\n",
    "        return 3\n",
    "    if x == 'U':\n",
    "        return 4"
   ]
  },
  {
   "cell_type": "code",
   "execution_count": null,
   "metadata": {
    "id": "5wrPLyQOCuDG"
   },
   "outputs": [],
   "source": [
    "def transformation_struct_nombre(x):\n",
    "    if x == '(':\n",
    "        return 0\n",
    "    if x == '.':\n",
    "        return 1\n",
    "    if x == ')':\n",
    "        return 2"
   ]
  },
  {
   "cell_type": "code",
   "execution_count": null,
   "metadata": {
    "id": "qbpp_WvMC_Oc"
   },
   "outputs": [],
   "source": [
    "def transformation_loop_nombre(x):\n",
    "    if x == 'S':\n",
    "        return 0\n",
    "    if x == 'M':\n",
    "        return 1\n",
    "    if x == 'I':\n",
    "        return 2\n",
    "    if x == 'B':\n",
    "        return 3\n",
    "    if x == 'H':\n",
    "        return 4\n",
    "    if x == 'E':\n",
    "        return 5\n",
    "    if x == 'X':\n",
    "        return 6"
   ]
  },
  {
   "cell_type": "code",
   "execution_count": null,
   "metadata": {
    "id": "ur3Jd1LdBQRa"
   },
   "outputs": [],
   "source": [
    "train_data = []\n",
    "for mol_id in data['id'].unique():\n",
    "    sample_data = data.loc[data['id'] == mol_id]\n",
    "    pA, pC, pU = prop_base(sample_data['sequence'].values[0])\n",
    "    pS, pE, pH, pB, pI, pX = prop_loop_type(sample_data['predicted_loop_type'].values[0])\n",
    "    distance = get_dist(sample_data['structure'].values[0], sample_data['seq_length'].values[0])\n",
    "    for i in range(sample_data['seq_scored'].values[0]):\n",
    "        if i == 0:\n",
    "            sample_tuple = (sample_data['id'].values[0]+'_'+str(i), transformation_base_nombre(sample_data['sequence'].values[0][i]),\n",
    "                            0, transformation_base_nombre(sample_data['sequence'].values[0][i+1]),\n",
    "                        pA,pC,pU,\n",
    "                        transformation_struct_nombre(sample_data['structure'].values[0][i]), \n",
    "                        transformation_loop_nombre(sample_data['predicted_loop_type'].values[0][i]),\n",
    "                        pS,pE,pH,pB,pI,pX,\n",
    "                        distance[i],\n",
    "                        i+1,    \n",
    "                        sample_data['reactivity'].values[0][i], \n",
    "                        sample_data['deg_Mg_pH10'].values[0][i],\n",
    "                        sample_data['deg_pH10'].values[0][i],\n",
    "                        sample_data['deg_Mg_50C'].values[0][i],\n",
    "                        sample_data['deg_50C'].values[0][i])\n",
    "        else:\n",
    "            sample_tuple = (sample_data['id'].values[0]+'_'+str(i), transformation_base_nombre(sample_data['sequence'].values[0][i]),\n",
    "                            transformation_base_nombre(sample_data['sequence'].values[0][i-1]), transformation_base_nombre(sample_data['sequence'].values[0][i+1]),\n",
    "                        pA,pC,pU,\n",
    "                        transformation_struct_nombre(sample_data['structure'].values[0][i]), \n",
    "                        transformation_loop_nombre(sample_data['predicted_loop_type'].values[0][i]),\n",
    "                        pS,pE,pH,pB,pI,pX,\n",
    "                        distance[i],\n",
    "                            i+1,\n",
    "                        sample_data['reactivity'].values[0][i], \n",
    "                        sample_data['deg_Mg_pH10'].values[0][i],\n",
    "                        sample_data['deg_pH10'].values[0][i],\n",
    "                        sample_data['deg_Mg_50C'].values[0][i],\n",
    "                        sample_data['deg_50C'].values[0][i])\n",
    "        train_data.append(sample_tuple)"
   ]
  },
  {
   "cell_type": "code",
   "execution_count": null,
   "metadata": {
    "id": "DbX3dpUYu82P"
   },
   "outputs": [],
   "source": [
    "train_data = pd.DataFrame(train_data, columns=['id', 'base','base_prec','base_suiv','prop_base_A','prop_base_C','prop_base_U', 'structure', 'predicted_loop_type',\n",
    "                                               'prop_loop_S','prop_loop_E','prop_loop_H','prop_loop_B','prop_loop_I','prop_loop_X',\n",
    "                                               'distance_parite','position','reactivity', 'deg_Mg_pH10',\n",
    "                                  'deg_pH10', 'deg_Mg_50C', 'deg_50C'])"
   ]
  },
  {
   "cell_type": "code",
   "execution_count": null,
   "metadata": {
    "id": "DiNbhVHOwWj5"
   },
   "outputs": [],
   "source": [
    "df = train_data"
   ]
  },
  {
   "cell_type": "code",
   "execution_count": null,
   "metadata": {
    "colab": {
     "base_uri": "https://localhost:8080/",
     "height": 422
    },
    "id": "RnU6M8ilEGKW",
    "outputId": "e0abdd20-dfee-4ab3-f20a-a07966930be0"
   },
   "outputs": [
    {
     "data": {
      "text/html": [
       "<div>\n",
       "<style scoped>\n",
       "    .dataframe tbody tr th:only-of-type {\n",
       "        vertical-align: middle;\n",
       "    }\n",
       "\n",
       "    .dataframe tbody tr th {\n",
       "        vertical-align: top;\n",
       "    }\n",
       "\n",
       "    .dataframe thead th {\n",
       "        text-align: right;\n",
       "    }\n",
       "</style>\n",
       "<table border=\"1\" class=\"dataframe\">\n",
       "  <thead>\n",
       "    <tr style=\"text-align: right;\">\n",
       "      <th></th>\n",
       "      <th>id</th>\n",
       "      <th>base</th>\n",
       "      <th>base_prec</th>\n",
       "      <th>base_suiv</th>\n",
       "      <th>prop_base_A</th>\n",
       "      <th>prop_base_C</th>\n",
       "      <th>prop_base_U</th>\n",
       "      <th>structure</th>\n",
       "      <th>predicted_loop_type</th>\n",
       "      <th>prop_loop_S</th>\n",
       "      <th>prop_loop_E</th>\n",
       "      <th>prop_loop_H</th>\n",
       "      <th>prop_loop_B</th>\n",
       "      <th>prop_loop_I</th>\n",
       "      <th>prop_loop_X</th>\n",
       "      <th>distance_parite</th>\n",
       "      <th>position</th>\n",
       "      <th>reactivity</th>\n",
       "      <th>deg_Mg_pH10</th>\n",
       "      <th>deg_pH10</th>\n",
       "      <th>deg_Mg_50C</th>\n",
       "      <th>deg_50C</th>\n",
       "    </tr>\n",
       "  </thead>\n",
       "  <tbody>\n",
       "    <tr>\n",
       "      <th>0</th>\n",
       "      <td>id_001f94081_0</td>\n",
       "      <td>3</td>\n",
       "      <td>0</td>\n",
       "      <td>3</td>\n",
       "      <td>0.420561</td>\n",
       "      <td>0.214953</td>\n",
       "      <td>0.186916</td>\n",
       "      <td>1</td>\n",
       "      <td>5</td>\n",
       "      <td>0.429907</td>\n",
       "      <td>0.242991</td>\n",
       "      <td>0.140187</td>\n",
       "      <td>0.009346</td>\n",
       "      <td>0.130841</td>\n",
       "      <td>0.046729</td>\n",
       "      <td>0.000000</td>\n",
       "      <td>1</td>\n",
       "      <td>0.3297</td>\n",
       "      <td>0.7556</td>\n",
       "      <td>2.3375</td>\n",
       "      <td>0.3581</td>\n",
       "      <td>0.6382</td>\n",
       "    </tr>\n",
       "    <tr>\n",
       "      <th>1</th>\n",
       "      <td>id_001f94081_1</td>\n",
       "      <td>3</td>\n",
       "      <td>3</td>\n",
       "      <td>1</td>\n",
       "      <td>0.420561</td>\n",
       "      <td>0.214953</td>\n",
       "      <td>0.186916</td>\n",
       "      <td>1</td>\n",
       "      <td>5</td>\n",
       "      <td>0.429907</td>\n",
       "      <td>0.242991</td>\n",
       "      <td>0.140187</td>\n",
       "      <td>0.009346</td>\n",
       "      <td>0.130841</td>\n",
       "      <td>0.046729</td>\n",
       "      <td>0.000000</td>\n",
       "      <td>2</td>\n",
       "      <td>1.5693</td>\n",
       "      <td>2.9830</td>\n",
       "      <td>3.5060</td>\n",
       "      <td>2.9683</td>\n",
       "      <td>3.4773</td>\n",
       "    </tr>\n",
       "    <tr>\n",
       "      <th>2</th>\n",
       "      <td>id_001f94081_2</td>\n",
       "      <td>1</td>\n",
       "      <td>3</td>\n",
       "      <td>1</td>\n",
       "      <td>0.420561</td>\n",
       "      <td>0.214953</td>\n",
       "      <td>0.186916</td>\n",
       "      <td>1</td>\n",
       "      <td>5</td>\n",
       "      <td>0.429907</td>\n",
       "      <td>0.242991</td>\n",
       "      <td>0.140187</td>\n",
       "      <td>0.009346</td>\n",
       "      <td>0.130841</td>\n",
       "      <td>0.046729</td>\n",
       "      <td>0.000000</td>\n",
       "      <td>3</td>\n",
       "      <td>1.1227</td>\n",
       "      <td>0.2526</td>\n",
       "      <td>0.3008</td>\n",
       "      <td>0.2589</td>\n",
       "      <td>0.9988</td>\n",
       "    </tr>\n",
       "    <tr>\n",
       "      <th>3</th>\n",
       "      <td>id_001f94081_3</td>\n",
       "      <td>1</td>\n",
       "      <td>1</td>\n",
       "      <td>1</td>\n",
       "      <td>0.420561</td>\n",
       "      <td>0.214953</td>\n",
       "      <td>0.186916</td>\n",
       "      <td>1</td>\n",
       "      <td>5</td>\n",
       "      <td>0.429907</td>\n",
       "      <td>0.242991</td>\n",
       "      <td>0.140187</td>\n",
       "      <td>0.009346</td>\n",
       "      <td>0.130841</td>\n",
       "      <td>0.046729</td>\n",
       "      <td>0.000000</td>\n",
       "      <td>4</td>\n",
       "      <td>0.8686</td>\n",
       "      <td>1.3789</td>\n",
       "      <td>1.0108</td>\n",
       "      <td>1.4552</td>\n",
       "      <td>1.3228</td>\n",
       "    </tr>\n",
       "    <tr>\n",
       "      <th>4</th>\n",
       "      <td>id_001f94081_4</td>\n",
       "      <td>1</td>\n",
       "      <td>1</td>\n",
       "      <td>1</td>\n",
       "      <td>0.420561</td>\n",
       "      <td>0.214953</td>\n",
       "      <td>0.186916</td>\n",
       "      <td>1</td>\n",
       "      <td>5</td>\n",
       "      <td>0.429907</td>\n",
       "      <td>0.242991</td>\n",
       "      <td>0.140187</td>\n",
       "      <td>0.009346</td>\n",
       "      <td>0.130841</td>\n",
       "      <td>0.046729</td>\n",
       "      <td>0.000000</td>\n",
       "      <td>5</td>\n",
       "      <td>0.7217</td>\n",
       "      <td>0.6376</td>\n",
       "      <td>0.2635</td>\n",
       "      <td>0.7244</td>\n",
       "      <td>0.7877</td>\n",
       "    </tr>\n",
       "    <tr>\n",
       "      <th>...</th>\n",
       "      <td>...</td>\n",
       "      <td>...</td>\n",
       "      <td>...</td>\n",
       "      <td>...</td>\n",
       "      <td>...</td>\n",
       "      <td>...</td>\n",
       "      <td>...</td>\n",
       "      <td>...</td>\n",
       "      <td>...</td>\n",
       "      <td>...</td>\n",
       "      <td>...</td>\n",
       "      <td>...</td>\n",
       "      <td>...</td>\n",
       "      <td>...</td>\n",
       "      <td>...</td>\n",
       "      <td>...</td>\n",
       "      <td>...</td>\n",
       "      <td>...</td>\n",
       "      <td>...</td>\n",
       "      <td>...</td>\n",
       "      <td>...</td>\n",
       "      <td>...</td>\n",
       "    </tr>\n",
       "    <tr>\n",
       "      <th>108047</th>\n",
       "      <td>id_fff546103_63</td>\n",
       "      <td>2</td>\n",
       "      <td>1</td>\n",
       "      <td>4</td>\n",
       "      <td>0.317757</td>\n",
       "      <td>0.271028</td>\n",
       "      <td>0.130841</td>\n",
       "      <td>2</td>\n",
       "      <td>0</td>\n",
       "      <td>0.616822</td>\n",
       "      <td>0.242991</td>\n",
       "      <td>0.093458</td>\n",
       "      <td>0.028037</td>\n",
       "      <td>0.000000</td>\n",
       "      <td>0.000000</td>\n",
       "      <td>0.504673</td>\n",
       "      <td>64</td>\n",
       "      <td>0.0272</td>\n",
       "      <td>0.5059</td>\n",
       "      <td>0.4998</td>\n",
       "      <td>0.2870</td>\n",
       "      <td>0.1820</td>\n",
       "    </tr>\n",
       "    <tr>\n",
       "      <th>108048</th>\n",
       "      <td>id_fff546103_64</td>\n",
       "      <td>4</td>\n",
       "      <td>2</td>\n",
       "      <td>1</td>\n",
       "      <td>0.317757</td>\n",
       "      <td>0.271028</td>\n",
       "      <td>0.130841</td>\n",
       "      <td>2</td>\n",
       "      <td>0</td>\n",
       "      <td>0.616822</td>\n",
       "      <td>0.242991</td>\n",
       "      <td>0.093458</td>\n",
       "      <td>0.028037</td>\n",
       "      <td>0.000000</td>\n",
       "      <td>0.000000</td>\n",
       "      <td>0.523364</td>\n",
       "      <td>65</td>\n",
       "      <td>0.0382</td>\n",
       "      <td>0.2025</td>\n",
       "      <td>0.3057</td>\n",
       "      <td>0.2022</td>\n",
       "      <td>0.2038</td>\n",
       "    </tr>\n",
       "    <tr>\n",
       "      <th>108049</th>\n",
       "      <td>id_fff546103_65</td>\n",
       "      <td>1</td>\n",
       "      <td>4</td>\n",
       "      <td>3</td>\n",
       "      <td>0.317757</td>\n",
       "      <td>0.271028</td>\n",
       "      <td>0.130841</td>\n",
       "      <td>2</td>\n",
       "      <td>0</td>\n",
       "      <td>0.616822</td>\n",
       "      <td>0.242991</td>\n",
       "      <td>0.093458</td>\n",
       "      <td>0.028037</td>\n",
       "      <td>0.000000</td>\n",
       "      <td>0.000000</td>\n",
       "      <td>0.542056</td>\n",
       "      <td>66</td>\n",
       "      <td>0.0381</td>\n",
       "      <td>0.1827</td>\n",
       "      <td>0.1642</td>\n",
       "      <td>0.2047</td>\n",
       "      <td>0.1120</td>\n",
       "    </tr>\n",
       "    <tr>\n",
       "      <th>108050</th>\n",
       "      <td>id_fff546103_66</td>\n",
       "      <td>3</td>\n",
       "      <td>1</td>\n",
       "      <td>2</td>\n",
       "      <td>0.317757</td>\n",
       "      <td>0.271028</td>\n",
       "      <td>0.130841</td>\n",
       "      <td>2</td>\n",
       "      <td>0</td>\n",
       "      <td>0.616822</td>\n",
       "      <td>0.242991</td>\n",
       "      <td>0.093458</td>\n",
       "      <td>0.028037</td>\n",
       "      <td>0.000000</td>\n",
       "      <td>0.000000</td>\n",
       "      <td>0.560748</td>\n",
       "      <td>67</td>\n",
       "      <td>-0.0066</td>\n",
       "      <td>0.3261</td>\n",
       "      <td>0.1654</td>\n",
       "      <td>0.2447</td>\n",
       "      <td>0.1186</td>\n",
       "    </tr>\n",
       "    <tr>\n",
       "      <th>108051</th>\n",
       "      <td>id_fff546103_67</td>\n",
       "      <td>2</td>\n",
       "      <td>3</td>\n",
       "      <td>3</td>\n",
       "      <td>0.317757</td>\n",
       "      <td>0.271028</td>\n",
       "      <td>0.130841</td>\n",
       "      <td>2</td>\n",
       "      <td>0</td>\n",
       "      <td>0.616822</td>\n",
       "      <td>0.242991</td>\n",
       "      <td>0.093458</td>\n",
       "      <td>0.028037</td>\n",
       "      <td>0.000000</td>\n",
       "      <td>0.000000</td>\n",
       "      <td>0.579439</td>\n",
       "      <td>68</td>\n",
       "      <td>0.0706</td>\n",
       "      <td>0.4529</td>\n",
       "      <td>0.4840</td>\n",
       "      <td>0.1802</td>\n",
       "      <td>0.3013</td>\n",
       "    </tr>\n",
       "  </tbody>\n",
       "</table>\n",
       "<p>108052 rows × 22 columns</p>\n",
       "</div>"
      ],
      "text/plain": [
       "                     id  base  base_prec  ...  deg_pH10  deg_Mg_50C  deg_50C\n",
       "0        id_001f94081_0     3          0  ...    2.3375      0.3581   0.6382\n",
       "1        id_001f94081_1     3          3  ...    3.5060      2.9683   3.4773\n",
       "2        id_001f94081_2     1          3  ...    0.3008      0.2589   0.9988\n",
       "3        id_001f94081_3     1          1  ...    1.0108      1.4552   1.3228\n",
       "4        id_001f94081_4     1          1  ...    0.2635      0.7244   0.7877\n",
       "...                 ...   ...        ...  ...       ...         ...      ...\n",
       "108047  id_fff546103_63     2          1  ...    0.4998      0.2870   0.1820\n",
       "108048  id_fff546103_64     4          2  ...    0.3057      0.2022   0.2038\n",
       "108049  id_fff546103_65     1          4  ...    0.1642      0.2047   0.1120\n",
       "108050  id_fff546103_66     3          1  ...    0.1654      0.2447   0.1186\n",
       "108051  id_fff546103_67     2          3  ...    0.4840      0.1802   0.3013\n",
       "\n",
       "[108052 rows x 22 columns]"
      ]
     },
     "execution_count": 14,
     "metadata": {
      "tags": []
     },
     "output_type": "execute_result"
    }
   ],
   "source": [
    "df"
   ]
  },
  {
   "cell_type": "code",
   "execution_count": null,
   "metadata": {
    "id": "E1bcU1-LxkJD"
   },
   "outputs": [],
   "source": [
    "X = df.loc[:,['base','base_prec','base_suiv','prop_base_A','prop_base_C','prop_base_U',\n",
    "              'structure','predicted_loop_type',\n",
    "            'prop_loop_S','prop_loop_E','prop_loop_H','prop_loop_B','prop_loop_I','prop_loop_X',\n",
    "            'distance_parite','position']]"
   ]
  },
  {
   "cell_type": "code",
   "execution_count": null,
   "metadata": {
    "id": "qNFYvQYjxpA6"
   },
   "outputs": [],
   "source": [
    "Y = df.loc[:,[\"reactivity\",\"deg_Mg_pH10\",\"deg_pH10\",\"deg_Mg_50C\",\"deg_50C\"]]"
   ]
  },
  {
   "cell_type": "code",
   "execution_count": null,
   "metadata": {
    "colab": {
     "base_uri": "https://localhost:8080/"
    },
    "id": "u0T2wgSXxqJP",
    "outputId": "d3f0cd64-c3e3-4951-ef97-5e9eb18ed867"
   },
   "outputs": [
    {
     "data": {
      "text/plain": [
       "(108052, 16)"
      ]
     },
     "execution_count": 17,
     "metadata": {
      "tags": []
     },
     "output_type": "execute_result"
    }
   ],
   "source": [
    "np.shape(X)"
   ]
  },
  {
   "cell_type": "code",
   "execution_count": null,
   "metadata": {
    "colab": {
     "base_uri": "https://localhost:8080/",
     "height": 402
    },
    "id": "XOd3ufzFy2of",
    "outputId": "18004c40-2f60-453e-d17e-2d51404006c5"
   },
   "outputs": [
    {
     "data": {
      "text/html": [
       "<div>\n",
       "<style scoped>\n",
       "    .dataframe tbody tr th:only-of-type {\n",
       "        vertical-align: middle;\n",
       "    }\n",
       "\n",
       "    .dataframe tbody tr th {\n",
       "        vertical-align: top;\n",
       "    }\n",
       "\n",
       "    .dataframe thead th {\n",
       "        text-align: right;\n",
       "    }\n",
       "</style>\n",
       "<table border=\"1\" class=\"dataframe\">\n",
       "  <thead>\n",
       "    <tr style=\"text-align: right;\">\n",
       "      <th></th>\n",
       "      <th>reactivity</th>\n",
       "      <th>deg_Mg_pH10</th>\n",
       "      <th>deg_pH10</th>\n",
       "      <th>deg_Mg_50C</th>\n",
       "      <th>deg_50C</th>\n",
       "    </tr>\n",
       "  </thead>\n",
       "  <tbody>\n",
       "    <tr>\n",
       "      <th>0</th>\n",
       "      <td>0.3297</td>\n",
       "      <td>0.7556</td>\n",
       "      <td>2.3375</td>\n",
       "      <td>0.3581</td>\n",
       "      <td>0.6382</td>\n",
       "    </tr>\n",
       "    <tr>\n",
       "      <th>1</th>\n",
       "      <td>1.5693</td>\n",
       "      <td>2.9830</td>\n",
       "      <td>3.5060</td>\n",
       "      <td>2.9683</td>\n",
       "      <td>3.4773</td>\n",
       "    </tr>\n",
       "    <tr>\n",
       "      <th>2</th>\n",
       "      <td>1.1227</td>\n",
       "      <td>0.2526</td>\n",
       "      <td>0.3008</td>\n",
       "      <td>0.2589</td>\n",
       "      <td>0.9988</td>\n",
       "    </tr>\n",
       "    <tr>\n",
       "      <th>3</th>\n",
       "      <td>0.8686</td>\n",
       "      <td>1.3789</td>\n",
       "      <td>1.0108</td>\n",
       "      <td>1.4552</td>\n",
       "      <td>1.3228</td>\n",
       "    </tr>\n",
       "    <tr>\n",
       "      <th>4</th>\n",
       "      <td>0.7217</td>\n",
       "      <td>0.6376</td>\n",
       "      <td>0.2635</td>\n",
       "      <td>0.7244</td>\n",
       "      <td>0.7877</td>\n",
       "    </tr>\n",
       "    <tr>\n",
       "      <th>...</th>\n",
       "      <td>...</td>\n",
       "      <td>...</td>\n",
       "      <td>...</td>\n",
       "      <td>...</td>\n",
       "      <td>...</td>\n",
       "    </tr>\n",
       "    <tr>\n",
       "      <th>108047</th>\n",
       "      <td>0.0272</td>\n",
       "      <td>0.5059</td>\n",
       "      <td>0.4998</td>\n",
       "      <td>0.2870</td>\n",
       "      <td>0.1820</td>\n",
       "    </tr>\n",
       "    <tr>\n",
       "      <th>108048</th>\n",
       "      <td>0.0382</td>\n",
       "      <td>0.2025</td>\n",
       "      <td>0.3057</td>\n",
       "      <td>0.2022</td>\n",
       "      <td>0.2038</td>\n",
       "    </tr>\n",
       "    <tr>\n",
       "      <th>108049</th>\n",
       "      <td>0.0381</td>\n",
       "      <td>0.1827</td>\n",
       "      <td>0.1642</td>\n",
       "      <td>0.2047</td>\n",
       "      <td>0.1120</td>\n",
       "    </tr>\n",
       "    <tr>\n",
       "      <th>108050</th>\n",
       "      <td>-0.0066</td>\n",
       "      <td>0.3261</td>\n",
       "      <td>0.1654</td>\n",
       "      <td>0.2447</td>\n",
       "      <td>0.1186</td>\n",
       "    </tr>\n",
       "    <tr>\n",
       "      <th>108051</th>\n",
       "      <td>0.0706</td>\n",
       "      <td>0.4529</td>\n",
       "      <td>0.4840</td>\n",
       "      <td>0.1802</td>\n",
       "      <td>0.3013</td>\n",
       "    </tr>\n",
       "  </tbody>\n",
       "</table>\n",
       "<p>108052 rows × 5 columns</p>\n",
       "</div>"
      ],
      "text/plain": [
       "        reactivity  deg_Mg_pH10  deg_pH10  deg_Mg_50C  deg_50C\n",
       "0           0.3297       0.7556    2.3375      0.3581   0.6382\n",
       "1           1.5693       2.9830    3.5060      2.9683   3.4773\n",
       "2           1.1227       0.2526    0.3008      0.2589   0.9988\n",
       "3           0.8686       1.3789    1.0108      1.4552   1.3228\n",
       "4           0.7217       0.6376    0.2635      0.7244   0.7877\n",
       "...            ...          ...       ...         ...      ...\n",
       "108047      0.0272       0.5059    0.4998      0.2870   0.1820\n",
       "108048      0.0382       0.2025    0.3057      0.2022   0.2038\n",
       "108049      0.0381       0.1827    0.1642      0.2047   0.1120\n",
       "108050     -0.0066       0.3261    0.1654      0.2447   0.1186\n",
       "108051      0.0706       0.4529    0.4840      0.1802   0.3013\n",
       "\n",
       "[108052 rows x 5 columns]"
      ]
     },
     "execution_count": 18,
     "metadata": {
      "tags": []
     },
     "output_type": "execute_result"
    }
   ],
   "source": [
    "Y"
   ]
  },
  {
   "cell_type": "code",
   "execution_count": null,
   "metadata": {
    "id": "K_YzsBVHyx2x"
   },
   "outputs": [],
   "source": [
    "from keras.models import Model,Sequential\n",
    "from keras.layers import Input, Dense, BatchNormalization, Dropout, ReLU, Activation, Flatten, Conv2D, MaxPooling2D\n",
    "from keras.backend import clear_session"
   ]
  },
  {
   "cell_type": "code",
   "execution_count": null,
   "metadata": {
    "id": "VfUJBYhO1SQY"
   },
   "outputs": [],
   "source": [
    "clear_session()"
   ]
  },
  {
   "cell_type": "code",
   "execution_count": null,
   "metadata": {
    "colab": {
     "base_uri": "https://localhost:8080/"
    },
    "id": "ImJ4B8Av6GOa",
    "outputId": "4f77f9a3-2d8b-44de-cade-43e5d106b649"
   },
   "outputs": [
    {
     "data": {
      "text/plain": [
       "16"
      ]
     },
     "execution_count": 21,
     "metadata": {
      "tags": []
     },
     "output_type": "execute_result"
    }
   ],
   "source": [
    "X.shape[1]"
   ]
  },
  {
   "cell_type": "code",
   "execution_count": null,
   "metadata": {
    "id": "7eG592M0u8pS"
   },
   "outputs": [],
   "source": [
    "model_MLP = Sequential()\n",
    "\n",
    "model_MLP.add(Dense(256,input_shape = [X.shape[1]])) \n",
    "model_MLP.add(ReLU())\n",
    "model_MLP.add(Dropout(0.2))\n",
    "model_MLP.add(Dense(256))\n",
    "model_MLP.add(ReLU())\n",
    "model_MLP.add(Dropout(0.2))\n",
    "\n",
    "model_MLP.add(Dense(Y.shape[1]))"
   ]
  },
  {
   "cell_type": "code",
   "execution_count": null,
   "metadata": {
    "colab": {
     "base_uri": "https://localhost:8080/"
    },
    "id": "tBVvCo6tu8mZ",
    "outputId": "3f92e3ac-2666-4b20-ee6c-b1335b4698ad"
   },
   "outputs": [
    {
     "name": "stdout",
     "output_type": "stream",
     "text": [
      "Model: \"sequential\"\n",
      "_________________________________________________________________\n",
      "Layer (type)                 Output Shape              Param #   \n",
      "=================================================================\n",
      "dense (Dense)                (None, 256)               4352      \n",
      "_________________________________________________________________\n",
      "re_lu (ReLU)                 (None, 256)               0         \n",
      "_________________________________________________________________\n",
      "dropout (Dropout)            (None, 256)               0         \n",
      "_________________________________________________________________\n",
      "dense_1 (Dense)              (None, 256)               65792     \n",
      "_________________________________________________________________\n",
      "re_lu_1 (ReLU)               (None, 256)               0         \n",
      "_________________________________________________________________\n",
      "dropout_1 (Dropout)          (None, 256)               0         \n",
      "_________________________________________________________________\n",
      "dense_2 (Dense)              (None, 5)                 1285      \n",
      "=================================================================\n",
      "Total params: 71,429\n",
      "Trainable params: 71,429\n",
      "Non-trainable params: 0\n",
      "_________________________________________________________________\n"
     ]
    }
   ],
   "source": [
    "model_MLP.summary()"
   ]
  },
  {
   "cell_type": "code",
   "execution_count": null,
   "metadata": {
    "id": "Fidza6Fg1a90"
   },
   "outputs": [],
   "source": [
    "from keras.optimizers import Adam"
   ]
  },
  {
   "cell_type": "code",
   "execution_count": null,
   "metadata": {
    "id": "SwKOVTDsu8jr"
   },
   "outputs": [],
   "source": [
    "opt = Adam(lr=0.001)"
   ]
  },
  {
   "cell_type": "code",
   "execution_count": null,
   "metadata": {
    "id": "r6GF7NyWu8go"
   },
   "outputs": [],
   "source": [
    "model_MLP.compile(loss='mean_squared_error',\n",
    "              optimizer=opt)"
   ]
  },
  {
   "cell_type": "code",
   "execution_count": null,
   "metadata": {
    "colab": {
     "base_uri": "https://localhost:8080/"
    },
    "id": "mB6OTwsW11os",
    "outputId": "67d02020-bde4-4855-f212-043768c2805e"
   },
   "outputs": [
    {
     "name": "stdout",
     "output_type": "stream",
     "text": [
      "Epoch 1/30\n",
      "676/676 [==============================] - 2s 2ms/step - loss: 0.5410 - val_loss: 0.1502\n",
      "Epoch 2/30\n",
      "676/676 [==============================] - 1s 2ms/step - loss: 0.1505 - val_loss: 0.1384\n",
      "Epoch 3/30\n",
      "676/676 [==============================] - 1s 2ms/step - loss: 0.1419 - val_loss: 0.1306\n",
      "Epoch 4/30\n",
      "676/676 [==============================] - 1s 2ms/step - loss: 0.1341 - val_loss: 0.1266\n",
      "Epoch 5/30\n",
      "676/676 [==============================] - 1s 2ms/step - loss: 0.1333 - val_loss: 0.1227\n",
      "Epoch 6/30\n",
      "676/676 [==============================] - 1s 2ms/step - loss: 0.1261 - val_loss: 0.1197\n",
      "Epoch 7/30\n",
      "676/676 [==============================] - 1s 2ms/step - loss: 0.1243 - val_loss: 0.1188\n",
      "Epoch 8/30\n",
      "676/676 [==============================] - 1s 2ms/step - loss: 0.1204 - val_loss: 0.1186\n",
      "Epoch 9/30\n",
      "676/676 [==============================] - 1s 2ms/step - loss: 0.1217 - val_loss: 0.1189\n",
      "Epoch 10/30\n",
      "676/676 [==============================] - 1s 2ms/step - loss: 0.1192 - val_loss: 0.1148\n",
      "Epoch 11/30\n",
      "676/676 [==============================] - 1s 2ms/step - loss: 0.1183 - val_loss: 0.1138\n",
      "Epoch 12/30\n",
      "676/676 [==============================] - 1s 2ms/step - loss: 0.1170 - val_loss: 0.1145\n",
      "Epoch 13/30\n",
      "676/676 [==============================] - 1s 2ms/step - loss: 0.1174 - val_loss: 0.1122\n",
      "Epoch 14/30\n",
      "676/676 [==============================] - 1s 2ms/step - loss: 0.1127 - val_loss: 0.1127\n",
      "Epoch 15/30\n",
      "676/676 [==============================] - 1s 2ms/step - loss: 0.1144 - val_loss: 0.1109\n",
      "Epoch 16/30\n",
      "676/676 [==============================] - 1s 2ms/step - loss: 0.1159 - val_loss: 0.1113\n",
      "Epoch 17/30\n",
      "676/676 [==============================] - 1s 2ms/step - loss: 0.1155 - val_loss: 0.1095\n",
      "Epoch 18/30\n",
      "676/676 [==============================] - 1s 2ms/step - loss: 0.1106 - val_loss: 0.1107\n",
      "Epoch 19/30\n",
      "676/676 [==============================] - 1s 2ms/step - loss: 0.1126 - val_loss: 0.1093\n",
      "Epoch 20/30\n",
      "676/676 [==============================] - 1s 2ms/step - loss: 0.1104 - val_loss: 0.1102\n",
      "Epoch 21/30\n",
      "676/676 [==============================] - 1s 2ms/step - loss: 0.1129 - val_loss: 0.1093\n",
      "Epoch 22/30\n",
      "676/676 [==============================] - 1s 2ms/step - loss: 0.1114 - val_loss: 0.1086\n",
      "Epoch 23/30\n",
      "676/676 [==============================] - 1s 2ms/step - loss: 0.1094 - val_loss: 0.1100\n",
      "Epoch 24/30\n",
      "676/676 [==============================] - 1s 2ms/step - loss: 0.1108 - val_loss: 0.1096\n",
      "Epoch 25/30\n",
      "676/676 [==============================] - 1s 2ms/step - loss: 0.1114 - val_loss: 0.1086\n",
      "Epoch 26/30\n",
      "676/676 [==============================] - 1s 2ms/step - loss: 0.1104 - val_loss: 0.1078\n",
      "Epoch 27/30\n",
      "676/676 [==============================] - 1s 2ms/step - loss: 0.1096 - val_loss: 0.1090\n",
      "Epoch 28/30\n",
      "676/676 [==============================] - 1s 2ms/step - loss: 0.1107 - val_loss: 0.1101\n",
      "Epoch 29/30\n",
      "676/676 [==============================] - 1s 2ms/step - loss: 0.1090 - val_loss: 0.1103\n",
      "Epoch 30/30\n",
      "676/676 [==============================] - 1s 2ms/step - loss: 0.1085 - val_loss: 0.1076\n"
     ]
    }
   ],
   "source": [
    "batch_size = 128\n",
    "epochs = 30\n",
    "hist_MLP = model_MLP.fit(X, Y,\n",
    "              batch_size=batch_size,\n",
    "              epochs=epochs,\n",
    "              validation_split=0.2)"
   ]
  },
  {
   "cell_type": "code",
   "execution_count": null,
   "metadata": {
    "id": "IUMiR6pgH9lH"
   },
   "outputs": [],
   "source": [
    "test = pd.read_json ('test.json', lines=True)"
   ]
  },
  {
   "cell_type": "code",
   "execution_count": null,
   "metadata": {
    "id": "ueNyFIapJLwk"
   },
   "outputs": [],
   "source": [
    "test_data = []\n",
    "for mol_id in test['id'].unique():\n",
    "    sample_data = test.loc[test['id'] == mol_id]\n",
    "    pA, pC, pU = prop_base(sample_data['sequence'].values[0])\n",
    "    pS, pE, pH, pB, pI, pX = prop_loop_type(sample_data['predicted_loop_type'].values[0])\n",
    "    distance = get_dist(sample_data['structure'].values[0], sample_data['seq_length'].values[0])\n",
    "    for i in range(sample_data['seq_length'].values[0]):\n",
    "        if i == 0:\n",
    "            sample_tuple = (sample_data['id'].values[0]+'_'+str(i), transformation_base_nombre(sample_data['sequence'].values[0][i]),\n",
    "                            0, transformation_base_nombre(sample_data['sequence'].values[0][i+1]),\n",
    "                        pA,pC,pU,\n",
    "                        transformation_struct_nombre(sample_data['structure'].values[0][i]), \n",
    "                        transformation_loop_nombre(sample_data['predicted_loop_type'].values[0][i]),\n",
    "                        pS,pE,pH,pB,pI,pX,\n",
    "                        distance[i],\n",
    "                        i+1)\n",
    "        elif i == sample_data['seq_length'].values[0] - 1:\n",
    "            sample_tuple = (sample_data['id'].values[0]+'_'+str(i), transformation_base_nombre(sample_data['sequence'].values[0][i]),\n",
    "                            transformation_base_nombre(sample_data['sequence'].values[0][i-1]), 0,\n",
    "                        pA,pC,pU,\n",
    "                        transformation_struct_nombre(sample_data['structure'].values[0][i]), \n",
    "                        transformation_loop_nombre(sample_data['predicted_loop_type'].values[0][i]),\n",
    "                        pS,pE,pH,pB,pI,pX,\n",
    "                        distance[i],\n",
    "                        i+1)\n",
    "        else:\n",
    "            sample_tuple = (sample_data['id'].values[0]+'_'+str(i), transformation_base_nombre(sample_data['sequence'].values[0][i]),\n",
    "                            transformation_base_nombre(sample_data['sequence'].values[0][i-1]), transformation_base_nombre(sample_data['sequence'].values[0][i+1]),\n",
    "                        pA,pC,pU,\n",
    "                        transformation_struct_nombre(sample_data['structure'].values[0][i]), \n",
    "                        transformation_loop_nombre(sample_data['predicted_loop_type'].values[0][i]),\n",
    "                        pS,pE,pH,pB,pI,pX,\n",
    "                        distance[i],\n",
    "                            i+1)\n",
    "        test_data.append(sample_tuple)"
   ]
  },
  {
   "cell_type": "code",
   "execution_count": null,
   "metadata": {
    "id": "5hWb7Z6nJLt3"
   },
   "outputs": [],
   "source": [
    "test_data = pd.DataFrame(test_data, columns=['id', 'base','base_prec','base_suiv','prop_base_A','prop_base_C','prop_base_U', 'structure', 'predicted_loop_type',\n",
    "                                               'prop_loop_S','prop_loop_E','prop_loop_H','prop_loop_B','prop_loop_I','prop_loop_X',\n",
    "                                               'distance_parite','position'])"
   ]
  },
  {
   "cell_type": "code",
   "execution_count": null,
   "metadata": {
    "id": "-RuRaYA2JLoX"
   },
   "outputs": [],
   "source": [
    "new_test = test_data.loc[:,['base','base_prec','base_suiv','prop_base_A','prop_base_C','prop_base_U',\n",
    "              'structure','predicted_loop_type',\n",
    "            'prop_loop_S','prop_loop_E','prop_loop_H','prop_loop_B','prop_loop_I','prop_loop_X',\n",
    "            'distance_parite','position']]"
   ]
  },
  {
   "cell_type": "code",
   "execution_count": null,
   "metadata": {
    "colab": {
     "base_uri": "https://localhost:8080/"
    },
    "id": "FxapHB0TMvL8",
    "outputId": "b7d84b2c-4348-48be-9579-2f679f2b5cb3"
   },
   "outputs": [
    {
     "data": {
      "text/plain": [
       "pandas.core.frame.DataFrame"
      ]
     },
     "execution_count": 54,
     "metadata": {
      "tags": []
     },
     "output_type": "execute_result"
    }
   ],
   "source": [
    "type(new_test)"
   ]
  },
  {
   "cell_type": "code",
   "execution_count": null,
   "metadata": {
    "id": "sgrCHEuWJLlR"
   },
   "outputs": [],
   "source": [
    "y_pred = model_MLP.predict(new_test)"
   ]
  },
  {
   "cell_type": "code",
   "execution_count": null,
   "metadata": {
    "id": "VJyeAKPKJkIQ"
   },
   "outputs": [],
   "source": [
    "tab = pd.read_csv(\"sample_submission.csv\")"
   ]
  },
  {
   "cell_type": "code",
   "execution_count": null,
   "metadata": {
    "id": "htkU3KUNJkFe"
   },
   "outputs": [],
   "source": [
    "y_pred_id = test_data[\"id\"].values"
   ]
  },
  {
   "cell_type": "code",
   "execution_count": null,
   "metadata": {
    "id": "DjJ-Lc96JkCo"
   },
   "outputs": [],
   "source": [
    "df_id = pd.Series(y_pred_id)"
   ]
  },
  {
   "cell_type": "code",
   "execution_count": null,
   "metadata": {
    "id": "Q2tEmQ8nJu5f"
   },
   "outputs": [],
   "source": [
    "df_DNN = pd.DataFrame(y_pred, columns=list(tab.columns)[1:])"
   ]
  },
  {
   "cell_type": "code",
   "execution_count": null,
   "metadata": {
    "colab": {
     "base_uri": "https://localhost:8080/",
     "height": 402
    },
    "id": "K4sZc94yJu3P",
    "outputId": "6cfc7e89-077d-430f-cc76-ed63c469a41f"
   },
   "outputs": [
    {
     "data": {
      "text/html": [
       "<div>\n",
       "<style scoped>\n",
       "    .dataframe tbody tr th:only-of-type {\n",
       "        vertical-align: middle;\n",
       "    }\n",
       "\n",
       "    .dataframe tbody tr th {\n",
       "        vertical-align: top;\n",
       "    }\n",
       "\n",
       "    .dataframe thead th {\n",
       "        text-align: right;\n",
       "    }\n",
       "</style>\n",
       "<table border=\"1\" class=\"dataframe\">\n",
       "  <thead>\n",
       "    <tr style=\"text-align: right;\">\n",
       "      <th></th>\n",
       "      <th>reactivity</th>\n",
       "      <th>deg_Mg_pH10</th>\n",
       "      <th>deg_pH10</th>\n",
       "      <th>deg_Mg_50C</th>\n",
       "      <th>deg_50C</th>\n",
       "    </tr>\n",
       "  </thead>\n",
       "  <tbody>\n",
       "    <tr>\n",
       "      <th>0</th>\n",
       "      <td>0.695006</td>\n",
       "      <td>0.739120</td>\n",
       "      <td>2.179359</td>\n",
       "      <td>0.535164</td>\n",
       "      <td>0.744113</td>\n",
       "    </tr>\n",
       "    <tr>\n",
       "      <th>1</th>\n",
       "      <td>1.992028</td>\n",
       "      <td>2.801833</td>\n",
       "      <td>3.654327</td>\n",
       "      <td>2.629273</td>\n",
       "      <td>2.252679</td>\n",
       "    </tr>\n",
       "    <tr>\n",
       "      <th>2</th>\n",
       "      <td>1.357069</td>\n",
       "      <td>0.941986</td>\n",
       "      <td>1.162849</td>\n",
       "      <td>1.227386</td>\n",
       "      <td>1.233486</td>\n",
       "    </tr>\n",
       "    <tr>\n",
       "      <th>3</th>\n",
       "      <td>1.050834</td>\n",
       "      <td>0.773974</td>\n",
       "      <td>0.926788</td>\n",
       "      <td>1.026403</td>\n",
       "      <td>1.036275</td>\n",
       "    </tr>\n",
       "    <tr>\n",
       "      <th>4</th>\n",
       "      <td>1.009936</td>\n",
       "      <td>0.756001</td>\n",
       "      <td>0.882532</td>\n",
       "      <td>0.990773</td>\n",
       "      <td>0.998793</td>\n",
       "    </tr>\n",
       "    <tr>\n",
       "      <th>...</th>\n",
       "      <td>...</td>\n",
       "      <td>...</td>\n",
       "      <td>...</td>\n",
       "      <td>...</td>\n",
       "      <td>...</td>\n",
       "    </tr>\n",
       "    <tr>\n",
       "      <th>457948</th>\n",
       "      <td>0.666842</td>\n",
       "      <td>1.149931</td>\n",
       "      <td>1.134735</td>\n",
       "      <td>1.093953</td>\n",
       "      <td>0.813368</td>\n",
       "    </tr>\n",
       "    <tr>\n",
       "      <th>457949</th>\n",
       "      <td>0.850094</td>\n",
       "      <td>1.135665</td>\n",
       "      <td>0.863150</td>\n",
       "      <td>1.290382</td>\n",
       "      <td>0.856463</td>\n",
       "    </tr>\n",
       "    <tr>\n",
       "      <th>457950</th>\n",
       "      <td>0.922361</td>\n",
       "      <td>0.942450</td>\n",
       "      <td>0.761848</td>\n",
       "      <td>1.122113</td>\n",
       "      <td>0.804904</td>\n",
       "    </tr>\n",
       "    <tr>\n",
       "      <th>457951</th>\n",
       "      <td>0.689272</td>\n",
       "      <td>1.210707</td>\n",
       "      <td>1.188426</td>\n",
       "      <td>1.153729</td>\n",
       "      <td>0.846224</td>\n",
       "    </tr>\n",
       "    <tr>\n",
       "      <th>457952</th>\n",
       "      <td>1.144968</td>\n",
       "      <td>1.041511</td>\n",
       "      <td>0.694741</td>\n",
       "      <td>1.447541</td>\n",
       "      <td>0.932076</td>\n",
       "    </tr>\n",
       "  </tbody>\n",
       "</table>\n",
       "<p>457953 rows × 5 columns</p>\n",
       "</div>"
      ],
      "text/plain": [
       "        reactivity  deg_Mg_pH10  deg_pH10  deg_Mg_50C   deg_50C\n",
       "0         0.695006     0.739120  2.179359    0.535164  0.744113\n",
       "1         1.992028     2.801833  3.654327    2.629273  2.252679\n",
       "2         1.357069     0.941986  1.162849    1.227386  1.233486\n",
       "3         1.050834     0.773974  0.926788    1.026403  1.036275\n",
       "4         1.009936     0.756001  0.882532    0.990773  0.998793\n",
       "...            ...          ...       ...         ...       ...\n",
       "457948    0.666842     1.149931  1.134735    1.093953  0.813368\n",
       "457949    0.850094     1.135665  0.863150    1.290382  0.856463\n",
       "457950    0.922361     0.942450  0.761848    1.122113  0.804904\n",
       "457951    0.689272     1.210707  1.188426    1.153729  0.846224\n",
       "457952    1.144968     1.041511  0.694741    1.447541  0.932076\n",
       "\n",
       "[457953 rows x 5 columns]"
      ]
     },
     "execution_count": 60,
     "metadata": {
      "tags": []
     },
     "output_type": "execute_result"
    }
   ],
   "source": [
    "df_DNN"
   ]
  },
  {
   "cell_type": "code",
   "execution_count": null,
   "metadata": {
    "id": "4WDa6ZMYJu0C"
   },
   "outputs": [],
   "source": [
    "df_test = pd.concat((df_id, df_DNN), axis = 1)"
   ]
  },
  {
   "cell_type": "code",
   "execution_count": null,
   "metadata": {
    "id": "1xr10-IaJuxM"
   },
   "outputs": [],
   "source": [
    "df_test.rename(columns={0: list(tab.columns)[0]}, inplace=True)"
   ]
  },
  {
   "cell_type": "code",
   "execution_count": null,
   "metadata": {
    "id": "Ew-HgKNBJuus"
   },
   "outputs": [],
   "source": [
    "df_test.to_csv('DNN_avec_ajout_sans_filtrage.csv', index=False)"
   ]
  },
  {
   "cell_type": "code",
   "execution_count": null,
   "metadata": {
    "colab": {
     "base_uri": "https://localhost:8080/",
     "height": 34
    },
    "id": "xGq8W8U0QDPV",
    "outputId": "b0581f1b-e6a2-4f05-9f45-1efb87f1341d"
   },
   "outputs": [
    {
     "data": {
      "application/javascript": [
       "\n",
       "    async function download(id, filename, size) {\n",
       "      if (!google.colab.kernel.accessAllowed) {\n",
       "        return;\n",
       "      }\n",
       "      const div = document.createElement('div');\n",
       "      const label = document.createElement('label');\n",
       "      label.textContent = `Downloading \"${filename}\": `;\n",
       "      div.appendChild(label);\n",
       "      const progress = document.createElement('progress');\n",
       "      progress.max = size;\n",
       "      div.appendChild(progress);\n",
       "      document.body.appendChild(div);\n",
       "\n",
       "      const buffers = [];\n",
       "      let downloaded = 0;\n",
       "\n",
       "      const channel = await google.colab.kernel.comms.open(id);\n",
       "      // Send a message to notify the kernel that we're ready.\n",
       "      channel.send({})\n",
       "\n",
       "      for await (const message of channel.messages) {\n",
       "        // Send a message to notify the kernel that we're ready.\n",
       "        channel.send({})\n",
       "        if (message.buffers) {\n",
       "          for (const buffer of message.buffers) {\n",
       "            buffers.push(buffer);\n",
       "            downloaded += buffer.byteLength;\n",
       "            progress.value = downloaded;\n",
       "          }\n",
       "        }\n",
       "      }\n",
       "      const blob = new Blob(buffers, {type: 'application/binary'});\n",
       "      const a = document.createElement('a');\n",
       "      a.href = window.URL.createObjectURL(blob);\n",
       "      a.download = filename;\n",
       "      div.appendChild(a);\n",
       "      a.click();\n",
       "      div.remove();\n",
       "    }\n",
       "  "
      ],
      "text/plain": [
       "<IPython.core.display.Javascript object>"
      ]
     },
     "metadata": {
      "tags": []
     },
     "output_type": "display_data"
    },
    {
     "data": {
      "application/javascript": [
       "download(\"download_79b8ddef-423b-481a-a178-939641371f2c\", \"DNN_avec_ajout_sans_filtrage.csv\", 31507633)"
      ],
      "text/plain": [
       "<IPython.core.display.Javascript object>"
      ]
     },
     "metadata": {
      "tags": []
     },
     "output_type": "display_data"
    }
   ],
   "source": [
    "from google.colab import files\n",
    "\n",
    "files.download('DNN_avec_ajout_sans_filtrage.csv')"
   ]
  },
  {
   "cell_type": "code",
   "execution_count": null,
   "metadata": {
    "id": "ThqhpvitJur-"
   },
   "outputs": [],
   "source": [
    "df_filtre = df_test"
   ]
  },
  {
   "cell_type": "code",
   "execution_count": null,
   "metadata": {
    "id": "38Vt-uf8PpUi"
   },
   "outputs": [],
   "source": [
    "df_filtre.iloc[np.where(df_test['reactivity'] < 0)[0],1] = 0\n",
    "df_filtre.iloc[np.where(df_test['deg_Mg_pH10'] < 0)[0],2] = 0\n",
    "df_filtre.iloc[np.where(df_test['deg_pH10'] < 0)[0],3] = 0\n",
    "df_filtre.iloc[np.where(df_test['deg_Mg_50C'] < 0)[0],4] = 0\n",
    "df_filtre.iloc[np.where(df_test['deg_50C'] < 0)[0],5] = 0"
   ]
  },
  {
   "cell_type": "code",
   "execution_count": null,
   "metadata": {
    "id": "Lh9nSPLKPpIo"
   },
   "outputs": [],
   "source": [
    "df_filtre.to_csv('DNN_avec_ajout_avec_filtrage.csv', index=False) "
   ]
  },
  {
   "cell_type": "code",
   "execution_count": null,
   "metadata": {
    "colab": {
     "base_uri": "https://localhost:8080/",
     "height": 34
    },
    "id": "NChKsQitJuoz",
    "outputId": "6e8d2e80-cf17-4c1f-fe8c-75be3756ea7e"
   },
   "outputs": [
    {
     "data": {
      "application/javascript": [
       "\n",
       "    async function download(id, filename, size) {\n",
       "      if (!google.colab.kernel.accessAllowed) {\n",
       "        return;\n",
       "      }\n",
       "      const div = document.createElement('div');\n",
       "      const label = document.createElement('label');\n",
       "      label.textContent = `Downloading \"${filename}\": `;\n",
       "      div.appendChild(label);\n",
       "      const progress = document.createElement('progress');\n",
       "      progress.max = size;\n",
       "      div.appendChild(progress);\n",
       "      document.body.appendChild(div);\n",
       "\n",
       "      const buffers = [];\n",
       "      let downloaded = 0;\n",
       "\n",
       "      const channel = await google.colab.kernel.comms.open(id);\n",
       "      // Send a message to notify the kernel that we're ready.\n",
       "      channel.send({})\n",
       "\n",
       "      for await (const message of channel.messages) {\n",
       "        // Send a message to notify the kernel that we're ready.\n",
       "        channel.send({})\n",
       "        if (message.buffers) {\n",
       "          for (const buffer of message.buffers) {\n",
       "            buffers.push(buffer);\n",
       "            downloaded += buffer.byteLength;\n",
       "            progress.value = downloaded;\n",
       "          }\n",
       "        }\n",
       "      }\n",
       "      const blob = new Blob(buffers, {type: 'application/binary'});\n",
       "      const a = document.createElement('a');\n",
       "      a.href = window.URL.createObjectURL(blob);\n",
       "      a.download = filename;\n",
       "      div.appendChild(a);\n",
       "      a.click();\n",
       "      div.remove();\n",
       "    }\n",
       "  "
      ],
      "text/plain": [
       "<IPython.core.display.Javascript object>"
      ]
     },
     "metadata": {
      "tags": []
     },
     "output_type": "display_data"
    },
    {
     "data": {
      "application/javascript": [
       "download(\"download_eaec7727-3916-4c3c-a767-c850b87fbfdb\", \"DNN_avec_ajout_avec_filtrage.csv\", 31489376)"
      ],
      "text/plain": [
       "<IPython.core.display.Javascript object>"
      ]
     },
     "metadata": {
      "tags": []
     },
     "output_type": "display_data"
    }
   ],
   "source": [
    "files.download('DNN_avec_ajout_avec_filtrage.csv')"
   ]
  },
  {
   "cell_type": "code",
   "execution_count": null,
   "metadata": {
    "id": "tuvWkDNnQPLJ"
   },
   "outputs": [],
   "source": []
  }
 ],
 "metadata": {
  "accelerator": "GPU",
  "colab": {
   "collapsed_sections": [],
   "name": "DNN_avec_ajout.ipynb",
   "provenance": []
  },
  "kernelspec": {
   "display_name": "Python 3",
   "language": "python",
   "name": "python3"
  },
  "language_info": {
   "codemirror_mode": {
    "name": "ipython",
    "version": 3
   },
   "file_extension": ".py",
   "mimetype": "text/x-python",
   "name": "python",
   "nbconvert_exporter": "python",
   "pygments_lexer": "ipython3",
   "version": "3.7.7"
  }
 },
 "nbformat": 4,
 "nbformat_minor": 1
}
